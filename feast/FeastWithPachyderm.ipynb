{
 "cells": [
  {
   "cell_type": "markdown",
   "id": "9fe232ce-cf6f-43cc-8962-c54db6c66ddc",
   "metadata": {},
   "source": [
    "in terminal: \"aws configure\" and specify empty credentials\n",
    "\n",
    "make sure that main.py contains \"localhost\" s3 urls and .yaml file contains pachyderm registry"
   ]
  },
  {
   "cell_type": "code",
   "execution_count": 4,
   "id": "d1029cb4-4137-4bf5-afb8-8d764602844c",
   "metadata": {},
   "outputs": [],
   "source": [
    "!pachctl create repo feast"
   ]
  },
  {
   "cell_type": "code",
   "execution_count": 9,
   "id": "1e6db512-e5f7-4b8b-9795-3bd45facfcb3",
   "metadata": {},
   "outputs": [
    {
     "name": "stdout",
     "output_type": "stream",
     "text": [
      "data/house_dataset_lat_lon.parquet 362.91 KB / 362.91 KB [=========] 0s 0.00 b/s\n",
      "\u001b[1A\u001b[Jdata/house_dataset_lat_lon.parquet 362.91 KB / 362.91 KB [=========] 0s 0.00 b/s\n",
      "\u001b[1A\u001b[Jdata/house_dataset_lat_lon.parquet 362.91 KB / 362.91 KB [=========] 0s 0.00 b/s\n",
      "\u001b[1A\u001b[Jdata/house_dataset_lat_lon.parquet 362.91 KB / 362.91 KB [=========] 0s 0.00 b/s\n",
      "\u001b[1A\u001b[Jdata/house_dataset_lat_lon.parquet 362.91 KB / 362.91 KB [=========] 0s 0.00 b/s\n",
      "data/house_dataset_main.parquet 1.06 MB / 1.06 MB [================] 0s 0.00 b/s\n",
      "\u001b[1A\u001b[Jdata/house_dataset_main.parquet 1.06 MB / 1.06 MB [================] 0s 0.00 b/s\n",
      "\u001b[1A\u001b[Jdata/house_dataset_main.parquet 1.06 MB / 1.06 MB [================] 0s 0.00 b/s\n",
      "\u001b[1A\u001b[Jdata/house_dataset_main.parquet 1.06 MB / 1.06 MB [================] 0s 0.00 b/s\n",
      "\u001b[1A\u001b[Jdata/house_dataset_main.parquet 1.06 MB / 1.06 MB [================] 0s 0.00 b/s\n",
      "\u001b[1A\u001b[Jdata/house_dataset_main.parquet 1.06 MB / 1.06 MB [================] 0s 0.00 b/s\n",
      "\u001b[1A\u001b[Jdata/house_dataset_main.parquet 1.06 MB / 1.06 MB [================] 0s 0.00 b/s\n"
     ]
    }
   ],
   "source": [
    "!pachctl put file feast@master:/house_dataset_lat_lon.parquet -f data/house_dataset_lat_lon.parquet\n",
    "!pachctl put file feast@master:/house_dataset_main.parquet -f data/house_dataset_main.parquet"
   ]
  },
  {
   "cell_type": "code",
   "execution_count": 2,
   "id": "2a7db335-685c-4578-b6ee-436c2f091dca",
   "metadata": {},
   "outputs": [
    {
     "name": "stdout",
     "output_type": "stream",
     "text": [
      "NAME                           TYPE SIZE     \n",
      "/house_dataset_lat_lon.parquet file 354.4KiB \n",
      "/house_dataset_main.parquet    file 1.012MiB \n"
     ]
    }
   ],
   "source": [
    "!pachctl list file feast@master"
   ]
  },
  {
   "cell_type": "markdown",
   "id": "a98c43d9-14a3-41d9-9e1f-7f295101bded",
   "metadata": {},
   "source": [
    "Now, change the main.py and .yaml file to use pachyderm paths"
   ]
  },
  {
   "cell_type": "code",
   "execution_count": 4,
   "id": "c8769ab7-4925-4abc-badd-278d462d992e",
   "metadata": {},
   "outputs": [
    {
     "name": "stdout",
     "output_type": "stream",
     "text": [
      "/home/ubuntu/mlops_workshops/feast/feature_store\n"
     ]
    }
   ],
   "source": [
    "cd feature_store/"
   ]
  },
  {
   "cell_type": "markdown",
   "id": "15621542-6c5e-4034-bddc-369e6bb69bbc",
   "metadata": {},
   "source": [
    "### Unfortunately, s3 endpoint cannot be specified directly in the config file, so we need to use env variable"
   ]
  },
  {
   "cell_type": "code",
   "execution_count": 2,
   "id": "66dd88b2-343e-43f1-a1fb-9b8062621eee",
   "metadata": {},
   "outputs": [],
   "source": [
    "import os\n",
    "os.environ['FEAST_S3_ENDPOINT_URL'] = 'http://localhost:30600'"
   ]
  },
  {
   "cell_type": "code",
   "execution_count": 5,
   "id": "852d7d1a-dbaa-45fa-aa58-fe20a6257750",
   "metadata": {},
   "outputs": [],
   "source": [
    "!FEAST_S3_ENDPOINT_URL=http://localhost:30600 feast apply"
   ]
  },
  {
   "cell_type": "code",
   "execution_count": 76,
   "id": "ce29f49a-b896-42bb-8ab6-79ce63856e9c",
   "metadata": {},
   "outputs": [
    {
     "name": "stdout",
     "output_type": "stream",
     "text": [
      "NAME                           TYPE SIZE     \n",
      "/house_dataset_lat_lon.parquet file 354.4KiB \n",
      "/house_dataset_main.parquet    file 1.012MiB \n",
      "/registry.db                   file 1.945KiB \n"
     ]
    }
   ],
   "source": [
    "!pachctl list file feast@master"
   ]
  },
  {
   "cell_type": "markdown",
   "id": "b70b7eb4-7034-41a0-8b82-b1271963403d",
   "metadata": {},
   "source": [
    "### Now let's make some changes to main.py"
   ]
  },
  {
   "cell_type": "code",
   "execution_count": 83,
   "id": "0d1ddade-3816-4f94-8418-94ecb47e4eb8",
   "metadata": {},
   "outputs": [
    {
     "name": "stdout",
     "output_type": "stream",
     "text": [
      "06/23/2022 07:30:13 PM INFO:Found credentials in shared credentials file: ~/.aws/credentials\n",
      "Updated feature view \u001b[1m\u001b[33mhouse_lat_lon_view\u001b[0m\n",
      "\tbatch_source: \u001b[1m\u001b[33mtype: BATCH_FILE\n",
      "timestamp_field: \"EventTimestamp\"\n",
      "created_timestamp_column: \"Created\"\n",
      "file_options {\n",
      "  uri: \"s3://master.feast/house_dataset_lat_lon.parquet\"\n",
      "  s3_endpoint_override: \"http://pachd.pachyderm.svc:30600\"\n",
      "}\n",
      "data_source_class_type: \"feast.infra.offline_stores.file_source.FileSource\"\n",
      "name: \"s3://master.feast/house_dataset_lat_lon.parquet\"\n",
      "\u001b[0m -> \u001b[1m\u001b[92mtype: BATCH_FILE\n",
      "timestamp_field: \"EventTimestamp\"\n",
      "created_timestamp_column: \"Created\"\n",
      "file_options {\n",
      "  uri: \"s3://master.feast/house_dataset_lat_lon.parquet\"\n",
      "  s3_endpoint_override: \"http://localhost:30600\"\n",
      "}\n",
      "data_source_class_type: \"feast.infra.offline_stores.file_source.FileSource\"\n",
      "name: \"s3://master.feast/house_dataset_lat_lon.parquet\"\n",
      "\u001b[0m\n",
      "Updated feature view \u001b[1m\u001b[33mhouse_main_view\u001b[0m\n",
      "\tbatch_source: \u001b[1m\u001b[33mtype: BATCH_FILE\n",
      "timestamp_field: \"EventTimestamp\"\n",
      "created_timestamp_column: \"Created\"\n",
      "file_options {\n",
      "  uri: \"s3://master.feast/house_dataset_main.parquet\"\n",
      "  s3_endpoint_override: \"http://pachd.pachyderm.svc:30600\"\n",
      "}\n",
      "data_source_class_type: \"feast.infra.offline_stores.file_source.FileSource\"\n",
      "name: \"s3://master.feast/house_dataset_main.parquet\"\n",
      "\u001b[0m -> \u001b[1m\u001b[92mtype: BATCH_FILE\n",
      "timestamp_field: \"EventTimestamp\"\n",
      "created_timestamp_column: \"Created\"\n",
      "file_options {\n",
      "  uri: \"s3://master.feast/house_dataset_main.parquet\"\n",
      "  s3_endpoint_override: \"http://localhost:30600\"\n",
      "}\n",
      "data_source_class_type: \"feast.infra.offline_stores.file_source.FileSource\"\n",
      "name: \"s3://master.feast/house_dataset_main.parquet\"\n",
      "\u001b[0m\n",
      "\tstream_source: \u001b[1m\u001b[33mtype: PUSH_SOURCE\n",
      "data_source_class_type: \"feast.data_source.PushSource\"\n",
      "name: \"main_push_source\"\n",
      "batch_source {\n",
      "  type: BATCH_FILE\n",
      "  timestamp_field: \"EventTimestamp\"\n",
      "  created_timestamp_column: \"Created\"\n",
      "  file_options {\n",
      "    uri: \"s3://master.feast/house_dataset_main.parquet\"\n",
      "    s3_endpoint_override: \"http://pachd.pachyderm.svc:30600\"\n",
      "  }\n",
      "  name: \"s3://master.feast/house_dataset_main.parquet\"\n",
      "}\n",
      "\u001b[0m -> \u001b[1m\u001b[92mtype: PUSH_SOURCE\n",
      "data_source_class_type: \"feast.data_source.PushSource\"\n",
      "name: \"main_push_source\"\n",
      "batch_source {\n",
      "  type: BATCH_FILE\n",
      "  timestamp_field: \"EventTimestamp\"\n",
      "  created_timestamp_column: \"Created\"\n",
      "  file_options {\n",
      "    uri: \"s3://master.feast/house_dataset_main.parquet\"\n",
      "    s3_endpoint_override: \"http://localhost:30600\"\n",
      "  }\n",
      "  name: \"s3://master.feast/house_dataset_main.parquet\"\n",
      "}\n",
      "\u001b[0m\n",
      "\n",
      "Deploying infrastructure for \u001b[1m\u001b[32mhouse_lat_lon_view\u001b[0m\n",
      "Deploying infrastructure for \u001b[1m\u001b[32mhouse_main_view\u001b[0m\n"
     ]
    }
   ],
   "source": [
    "!FEAST_S3_ENDPOINT_URL=http://localhost:30600 feast apply"
   ]
  },
  {
   "cell_type": "code",
   "execution_count": 35,
   "id": "19f903b2-ad65-42f0-b715-abc90e6cf9a1",
   "metadata": {},
   "outputs": [],
   "source": [
    "!pachctl list commit feast"
   ]
  },
  {
   "cell_type": "code",
   "execution_count": 24,
   "id": "7e6317f0-7893-4232-8f9a-8bfe2323cd53",
   "metadata": {},
   "outputs": [
    {
     "name": "stdout",
     "output_type": "stream",
     "text": [
      "NAME                           TYPE SIZE     \n",
      "/house_dataset_lat_lon.parquet file 354.4KiB \n",
      "/house_dataset_main.parquet    file 1.012MiB \n",
      "/registry.db                   file 1.53KiB  \n"
     ]
    }
   ],
   "source": [
    "!pachctl list file feast@master"
   ]
  },
  {
   "cell_type": "code",
   "execution_count": 25,
   "id": "f0b4d1e1-1718-49be-888c-ea1d0e1dfc4d",
   "metadata": {},
   "outputs": [
    {
     "name": "stdout",
     "output_type": "stream",
     "text": [
      "NAME                           TYPE SIZE     \n",
      "/house_dataset_lat_lon.parquet file 354.4KiB \n",
      "/house_dataset_main.parquet    file 1.012MiB \n",
      "/registry.db                   file 1.945KiB \n"
     ]
    }
   ],
   "source": [
    "!pachctl list file feast@master^1"
   ]
  },
  {
   "cell_type": "code",
   "execution_count": 1,
   "id": "21e9ea47-6e5d-4d84-8ed4-0bc83e910ec3",
   "metadata": {},
   "outputs": [
    {
     "ename": "FileNotFoundError",
     "evalue": "[Errno 2] No such file or directory: 'feature_store.yaml'",
     "output_type": "error",
     "traceback": [
      "\u001b[0;31m---------------------------------------------------------------------------\u001b[0m",
      "\u001b[0;31mFileNotFoundError\u001b[0m                         Traceback (most recent call last)",
      "Input \u001b[0;32mIn [1]\u001b[0m, in \u001b[0;36m<cell line: 3>\u001b[0;34m()\u001b[0m\n\u001b[1;32m      1\u001b[0m \u001b[38;5;28;01mfrom\u001b[39;00m \u001b[38;5;21;01mfeast\u001b[39;00m \u001b[38;5;28;01mimport\u001b[39;00m FeatureStore\n\u001b[0;32m----> 3\u001b[0m store \u001b[38;5;241m=\u001b[39m \u001b[43mFeatureStore\u001b[49m\u001b[43m(\u001b[49m\u001b[43mrepo_path\u001b[49m\u001b[38;5;241;43m=\u001b[39;49m\u001b[38;5;124;43m\"\u001b[39;49m\u001b[38;5;124;43m.\u001b[39;49m\u001b[38;5;124;43m\"\u001b[39;49m\u001b[43m)\u001b[49m\n",
      "File \u001b[0;32m~/.local/lib/python3.10/site-packages/feast/usage.py:338\u001b[0m, in \u001b[0;36mlog_exceptions.<locals>.decorator.<locals>.wrapper\u001b[0;34m(*args, **kwargs)\u001b[0m\n\u001b[1;32m    335\u001b[0m _produce_event(ctx)\n\u001b[1;32m    337\u001b[0m \u001b[38;5;28;01mif\u001b[39;00m traceback:\n\u001b[0;32m--> 338\u001b[0m     \u001b[38;5;28;01mraise\u001b[39;00m exc\u001b[38;5;241m.\u001b[39mwith_traceback(traceback)\n\u001b[1;32m    340\u001b[0m \u001b[38;5;28;01mraise\u001b[39;00m exc\n",
      "File \u001b[0;32m~/.local/lib/python3.10/site-packages/feast/usage.py:324\u001b[0m, in \u001b[0;36mlog_exceptions.<locals>.decorator.<locals>.wrapper\u001b[0;34m(*args, **kwargs)\u001b[0m\n\u001b[1;32m    320\u001b[0m fn_call \u001b[38;5;241m=\u001b[39m FnCall(\n\u001b[1;32m    321\u001b[0m     \u001b[38;5;28mid\u001b[39m\u001b[38;5;241m=\u001b[39muuid\u001b[38;5;241m.\u001b[39muuid4()\u001b[38;5;241m.\u001b[39mhex, fn_name\u001b[38;5;241m=\u001b[39m_fn_fullname(func), start\u001b[38;5;241m=\u001b[39mdatetime\u001b[38;5;241m.\u001b[39mutcnow()\n\u001b[1;32m    322\u001b[0m )\n\u001b[1;32m    323\u001b[0m \u001b[38;5;28;01mtry\u001b[39;00m:\n\u001b[0;32m--> 324\u001b[0m     \u001b[38;5;28;01mreturn\u001b[39;00m \u001b[43mfunc\u001b[49m\u001b[43m(\u001b[49m\u001b[38;5;241;43m*\u001b[39;49m\u001b[43margs\u001b[49m\u001b[43m,\u001b[49m\u001b[43m \u001b[49m\u001b[38;5;241;43m*\u001b[39;49m\u001b[38;5;241;43m*\u001b[39;49m\u001b[43mkwargs\u001b[49m\u001b[43m)\u001b[49m\n\u001b[1;32m    325\u001b[0m \u001b[38;5;28;01mexcept\u001b[39;00m \u001b[38;5;167;01mException\u001b[39;00m:\n\u001b[1;32m    326\u001b[0m     _, exc, traceback \u001b[38;5;241m=\u001b[39m sys\u001b[38;5;241m.\u001b[39mexc_info()\n",
      "File \u001b[0;32m~/.local/lib/python3.10/site-packages/feast/feature_store.py:134\u001b[0m, in \u001b[0;36mFeatureStore.__init__\u001b[0;34m(self, repo_path, config)\u001b[0m\n\u001b[1;32m    132\u001b[0m \u001b[38;5;28;01melif\u001b[39;00m repo_path \u001b[38;5;129;01mis\u001b[39;00m \u001b[38;5;129;01mnot\u001b[39;00m \u001b[38;5;28;01mNone\u001b[39;00m:\n\u001b[1;32m    133\u001b[0m     \u001b[38;5;28mself\u001b[39m\u001b[38;5;241m.\u001b[39mrepo_path \u001b[38;5;241m=\u001b[39m Path(repo_path)\n\u001b[0;32m--> 134\u001b[0m     \u001b[38;5;28mself\u001b[39m\u001b[38;5;241m.\u001b[39mconfig \u001b[38;5;241m=\u001b[39m \u001b[43mload_repo_config\u001b[49m\u001b[43m(\u001b[49m\u001b[43mPath\u001b[49m\u001b[43m(\u001b[49m\u001b[43mrepo_path\u001b[49m\u001b[43m)\u001b[49m\u001b[43m)\u001b[49m\n\u001b[1;32m    135\u001b[0m \u001b[38;5;28;01melse\u001b[39;00m:\n\u001b[1;32m    136\u001b[0m     \u001b[38;5;28;01mraise\u001b[39;00m \u001b[38;5;167;01mValueError\u001b[39;00m(\u001b[38;5;124m\"\u001b[39m\u001b[38;5;124mPlease specify one of repo_path or config.\u001b[39m\u001b[38;5;124m\"\u001b[39m)\n",
      "File \u001b[0;32m~/.local/lib/python3.10/site-packages/feast/repo_config.py:404\u001b[0m, in \u001b[0;36mload_repo_config\u001b[0;34m(repo_path)\u001b[0m\n\u001b[1;32m    401\u001b[0m \u001b[38;5;28;01mdef\u001b[39;00m \u001b[38;5;21mload_repo_config\u001b[39m(repo_path: Path) \u001b[38;5;241m-\u001b[39m\u001b[38;5;241m>\u001b[39m RepoConfig:\n\u001b[1;32m    402\u001b[0m     config_path \u001b[38;5;241m=\u001b[39m repo_path \u001b[38;5;241m/\u001b[39m \u001b[38;5;124m\"\u001b[39m\u001b[38;5;124mfeature_store.yaml\u001b[39m\u001b[38;5;124m\"\u001b[39m\n\u001b[0;32m--> 404\u001b[0m     \u001b[38;5;28;01mwith\u001b[39;00m \u001b[38;5;28;43mopen\u001b[39;49m\u001b[43m(\u001b[49m\u001b[43mconfig_path\u001b[49m\u001b[43m)\u001b[49m \u001b[38;5;28;01mas\u001b[39;00m f:\n\u001b[1;32m    405\u001b[0m         raw_config \u001b[38;5;241m=\u001b[39m yaml\u001b[38;5;241m.\u001b[39msafe_load(os\u001b[38;5;241m.\u001b[39mpath\u001b[38;5;241m.\u001b[39mexpandvars(f\u001b[38;5;241m.\u001b[39mread()))\n\u001b[1;32m    406\u001b[0m         \u001b[38;5;28;01mtry\u001b[39;00m:\n",
      "\u001b[0;31mFileNotFoundError\u001b[0m: [Errno 2] No such file or directory: 'feature_store.yaml'"
     ]
    }
   ],
   "source": [
    "from feast import FeatureStore\n",
    "\n",
    "store = FeatureStore(repo_path=\".\")"
   ]
  },
  {
   "cell_type": "code",
   "execution_count": 85,
   "id": "3eab622f-301f-4d0f-81a9-3f48ac425467",
   "metadata": {},
   "outputs": [],
   "source": [
    "import feast\n",
    "import pandas as pd\n",
    "from feast.infra.offline_stores.file_source import SavedDatasetFileStorage\n",
    "\n",
    "entity_df = pd.DataFrame.from_dict({\"HouseId\": [i for i in range(1, 1000)]})\n",
    "entity_df['event_timestamp'] = pd.to_datetime('now', utc=True)\n",
    "\n",
    "retrieval_job = store.get_historical_features(\n",
    "    entity_df=entity_df,\n",
    "    features=store.get_feature_service('house_service')\n",
    ")"
   ]
  },
  {
   "cell_type": "code",
   "execution_count": 86,
   "id": "9315aafc-c365-4eb2-af5d-94933afde716",
   "metadata": {},
   "outputs": [
    {
     "name": "stderr",
     "output_type": "stream",
     "text": [
      "/home/ubuntu/.local/lib/python3.10/site-packages/feast/feature_store.py:952: RuntimeWarning: Saving dataset is an experimental feature. This API is unstable and it could and most probably will be changed in the future. We do not guarantee that future changes will maintain backward compatibility.\n",
      "  warnings.warn(\n"
     ]
    },
    {
     "name": "stdout",
     "output_type": "stream",
     "text": [
      "999\n"
     ]
    },
    {
     "data": {
      "text/html": [
       "<div>\n",
       "<style scoped>\n",
       "    .dataframe tbody tr th:only-of-type {\n",
       "        vertical-align: middle;\n",
       "    }\n",
       "\n",
       "    .dataframe tbody tr th {\n",
       "        vertical-align: top;\n",
       "    }\n",
       "\n",
       "    .dataframe thead th {\n",
       "        text-align: right;\n",
       "    }\n",
       "</style>\n",
       "<table border=\"1\" class=\"dataframe\">\n",
       "  <thead>\n",
       "    <tr style=\"text-align: right;\">\n",
       "      <th></th>\n",
       "      <th>HouseId</th>\n",
       "      <th>event_timestamp</th>\n",
       "      <th>MedInc</th>\n",
       "      <th>HouseAge</th>\n",
       "      <th>AveRooms</th>\n",
       "      <th>AveBedrms</th>\n",
       "      <th>Population</th>\n",
       "      <th>AveOccup</th>\n",
       "      <th>MedHouseVal</th>\n",
       "      <th>Latitude</th>\n",
       "      <th>Longitude</th>\n",
       "    </tr>\n",
       "  </thead>\n",
       "  <tbody>\n",
       "    <tr>\n",
       "      <th>0</th>\n",
       "      <td>1</td>\n",
       "      <td>2022-06-23 19:30:26.815312+00:00</td>\n",
       "      <td>2.4792</td>\n",
       "      <td>24.0</td>\n",
       "      <td>3.454704</td>\n",
       "      <td>1.134146</td>\n",
       "      <td>2251.0</td>\n",
       "      <td>3.921603</td>\n",
       "      <td>2.000</td>\n",
       "      <td>34.18</td>\n",
       "      <td>-118.38</td>\n",
       "    </tr>\n",
       "    <tr>\n",
       "      <th>1</th>\n",
       "      <td>2</td>\n",
       "      <td>2022-06-23 19:30:26.815312+00:00</td>\n",
       "      <td>3.4630</td>\n",
       "      <td>8.0</td>\n",
       "      <td>6.363636</td>\n",
       "      <td>1.166297</td>\n",
       "      <td>1307.0</td>\n",
       "      <td>2.898004</td>\n",
       "      <td>2.017</td>\n",
       "      <td>39.08</td>\n",
       "      <td>-121.04</td>\n",
       "    </tr>\n",
       "    <tr>\n",
       "      <th>2</th>\n",
       "      <td>3</td>\n",
       "      <td>2022-06-23 19:30:26.815312+00:00</td>\n",
       "      <td>3.7500</td>\n",
       "      <td>16.0</td>\n",
       "      <td>5.768719</td>\n",
       "      <td>1.023295</td>\n",
       "      <td>1478.0</td>\n",
       "      <td>2.459235</td>\n",
       "      <td>1.473</td>\n",
       "      <td>38.68</td>\n",
       "      <td>-121.28</td>\n",
       "    </tr>\n",
       "    <tr>\n",
       "      <th>3</th>\n",
       "      <td>4</td>\n",
       "      <td>2022-06-23 19:30:26.815312+00:00</td>\n",
       "      <td>2.8542</td>\n",
       "      <td>34.0</td>\n",
       "      <td>3.858779</td>\n",
       "      <td>1.045802</td>\n",
       "      <td>1164.0</td>\n",
       "      <td>4.442748</td>\n",
       "      <td>1.469</td>\n",
       "      <td>34.04</td>\n",
       "      <td>-118.19</td>\n",
       "    </tr>\n",
       "    <tr>\n",
       "      <th>4</th>\n",
       "      <td>5</td>\n",
       "      <td>2022-06-23 19:30:26.815312+00:00</td>\n",
       "      <td>1.3375</td>\n",
       "      <td>18.0</td>\n",
       "      <td>4.567625</td>\n",
       "      <td>1.087327</td>\n",
       "      <td>2707.0</td>\n",
       "      <td>2.882854</td>\n",
       "      <td>0.596</td>\n",
       "      <td>39.13</td>\n",
       "      <td>-121.54</td>\n",
       "    </tr>\n",
       "  </tbody>\n",
       "</table>\n",
       "</div>"
      ],
      "text/plain": [
       "   HouseId                  event_timestamp  MedInc  HouseAge  AveRooms  \\\n",
       "0        1 2022-06-23 19:30:26.815312+00:00  2.4792      24.0  3.454704   \n",
       "1        2 2022-06-23 19:30:26.815312+00:00  3.4630       8.0  6.363636   \n",
       "2        3 2022-06-23 19:30:26.815312+00:00  3.7500      16.0  5.768719   \n",
       "3        4 2022-06-23 19:30:26.815312+00:00  2.8542      34.0  3.858779   \n",
       "4        5 2022-06-23 19:30:26.815312+00:00  1.3375      18.0  4.567625   \n",
       "\n",
       "   AveBedrms  Population  AveOccup  MedHouseVal  Latitude  Longitude  \n",
       "0   1.134146      2251.0  3.921603        2.000     34.18    -118.38  \n",
       "1   1.166297      1307.0  2.898004        2.017     39.08    -121.04  \n",
       "2   1.023295      1478.0  2.459235        1.473     38.68    -121.28  \n",
       "3   1.045802      1164.0  4.442748        1.469     34.04    -118.19  \n",
       "4   1.087327      2707.0  2.882854        0.596     39.13    -121.54  "
      ]
     },
     "execution_count": 86,
     "metadata": {},
     "output_type": "execute_result"
    }
   ],
   "source": [
    "dataset = store.create_saved_dataset(\n",
    "    from_=retrieval_job,\n",
    "    name='merged_dataset_v1',\n",
    "    storage=SavedDatasetFileStorage(\n",
    "        path='s3://master.feast/merged_dataset_v1.parquet',\n",
    "        s3_endpoint_override='http://localhost:30600'\n",
    "    )\n",
    ")\n",
    "\n",
    "training_df = retrieval_job.to_df()\n",
    "print(len(training_df))\n",
    "training_df.head()"
   ]
  },
  {
   "cell_type": "code",
   "execution_count": 87,
   "id": "0a46c609-a0d2-48ed-9eef-88dbde964db4",
   "metadata": {},
   "outputs": [
    {
     "name": "stdout",
     "output_type": "stream",
     "text": [
      "NAME                           TYPE SIZE     \n",
      "/house_dataset_lat_lon.parquet file 354.4KiB \n",
      "/house_dataset_main.parquet    file 1.012MiB \n",
      "/merged_dataset_v1.parquet     file 68.71KiB \n",
      "/models/                       dir  2.42MiB  \n",
      "/registry.db                   file 2.697KiB \n"
     ]
    }
   ],
   "source": [
    "!pachctl list file feast@master"
   ]
  },
  {
   "cell_type": "markdown",
   "id": "d597920b-70d0-4681-93d4-82d1c4dbc467",
   "metadata": {},
   "source": [
    "### Now let's setup the env for the KFP demo:\n",
    "1) change main.py s3 urls \"localhost\" -> \"pachd.pachyderm.svc\"\n",
    "2) redis connection_string in .yaml: \"localhost:6379\" -> \"kf-feast-redis-master.feast.svc:6379\"\n",
    "\n",
    "and run feast apply again"
   ]
  },
  {
   "cell_type": "code",
   "execution_count": null,
   "id": "2c97b98a-c3d0-4f49-bf9f-7b60affdcac3",
   "metadata": {},
   "outputs": [],
   "source": []
  }
 ],
 "metadata": {
  "kernelspec": {
   "display_name": "Python 3 (ipykernel)",
   "language": "python",
   "name": "python3"
  },
  "language_info": {
   "codemirror_mode": {
    "name": "ipython",
    "version": 3
   },
   "file_extension": ".py",
   "mimetype": "text/x-python",
   "name": "python",
   "nbconvert_exporter": "python",
   "pygments_lexer": "ipython3",
   "version": "3.10.4"
  }
 },
 "nbformat": 4,
 "nbformat_minor": 5
}
