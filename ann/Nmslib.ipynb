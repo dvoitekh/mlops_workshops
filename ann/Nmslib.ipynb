{
 "cells": [
  {
   "cell_type": "markdown",
   "metadata": {},
   "source": [
    "# NMSLIB Demo with GloVe Dataset"
   ]
  },
  {
   "cell_type": "code",
   "execution_count": 31,
   "metadata": {},
   "outputs": [],
   "source": [
    "!pip install hnswlib optuna"
   ]
  },
  {
   "cell_type": "code",
   "execution_count": 1,
   "metadata": {
    "scrolled": true
   },
   "outputs": [
    {
     "name": "stderr",
     "output_type": "stream",
     "text": [
      "/home/ubuntu/.local/lib/python3.10/site-packages/tqdm/auto.py:22: TqdmWarning: IProgress not found. Please update jupyter and ipywidgets. See https://ipywidgets.readthedocs.io/en/stable/user_install.html\n",
      "  from .autonotebook import tqdm as notebook_tqdm\n"
     ]
    }
   ],
   "source": [
    "import numpy as np\n",
    "import h5py\n",
    "import os\n",
    "import requests\n",
    "import tempfile\n",
    "import time\n",
    "import hnswlib\n",
    "import optuna"
   ]
  },
  {
   "cell_type": "markdown",
   "metadata": {},
   "source": [
    "### Download dataset"
   ]
  },
  {
   "cell_type": "code",
   "execution_count": 2,
   "metadata": {},
   "outputs": [],
   "source": [
    "with tempfile.TemporaryDirectory() as tmp:\n",
    "    loc = os.path.join(tmp, \"glove.hdf5\")\n",
    "    \n",
    "    if not os.path.isfile(loc):\n",
    "        response = requests.get(\"http://ann-benchmarks.com/glove-100-angular.hdf5\")\n",
    "        with open(loc, 'wb') as f:\n",
    "            f.write(response.content)\n",
    "    \n",
    "    glove_h5py = h5py.File(loc, \"r\")"
   ]
  },
  {
   "cell_type": "code",
   "execution_count": 3,
   "metadata": {},
   "outputs": [
    {
     "data": {
      "text/plain": [
       "['distances', 'neighbors', 'test', 'train']"
      ]
     },
     "execution_count": 3,
     "metadata": {},
     "output_type": "execute_result"
    }
   ],
   "source": [
    "list(glove_h5py.keys())"
   ]
  },
  {
   "cell_type": "code",
   "execution_count": 4,
   "metadata": {},
   "outputs": [
    {
     "name": "stdout",
     "output_type": "stream",
     "text": [
      "(1183514, 100)\n",
      "(10000, 100)\n"
     ]
    }
   ],
   "source": [
    "dataset = glove_h5py['train']\n",
    "queries = glove_h5py['test']\n",
    "print(dataset.shape)\n",
    "print(queries.shape)"
   ]
  },
  {
   "cell_type": "markdown",
   "metadata": {},
   "source": [
    "### Create NMSLIB index"
   ]
  },
  {
   "cell_type": "code",
   "execution_count": 13,
   "metadata": {},
   "outputs": [],
   "source": [
    "# Declaring index\n",
    "dim = dataset.shape[-1]\n",
    "p = hnswlib.Index(space='cosine', dim=dim)  # possible options are l2, cosine or ip\n",
    "\n",
    "# Initializing index\n",
    "# max_elements - the maximum number of elements (capacity). Will throw an exception if exceeded\n",
    "# during insertion of an element.\n",
    "# The capacity can be increased by saving/loading the index, see below.\n",
    "#\n",
    "# ef_construction - controls index search speed/build speed tradeoff\n",
    "#\n",
    "# M - is tightly connected with internal dimensionality of the data. Strongly affects memory consumption (~M)\n",
    "# Higher M leads to higher accuracy/run_time at fixed ef/efConstruction\n",
    "\n",
    "p.init_index(max_elements=len(dataset), ef_construction=100, M=200)\n",
    "# Controlling the recall by setting ef:\n",
    "# higher ef leads to better accuracy, but slower search\n",
    "p.set_ef(100)\n",
    "# Set number of threads used during batch search/construction\n",
    "# By default using all available cores\n",
    "p.set_num_threads(8)\n",
    "p.add_items(dataset)"
   ]
  },
  {
   "cell_type": "code",
   "execution_count": 6,
   "metadata": {},
   "outputs": [],
   "source": [
    "def compute_recall(neighbors, true_neighbors):\n",
    "    total = 0\n",
    "    for gt_row, row in zip(true_neighbors, neighbors):\n",
    "        total += np.intersect1d(gt_row, row).shape[0]\n",
    "    return total / true_neighbors.size"
   ]
  },
  {
   "cell_type": "code",
   "execution_count": 15,
   "metadata": {},
   "outputs": [
    {
     "name": "stdout",
     "output_type": "stream",
     "text": [
      "Recall: 0.91259\n",
      "Time: 1.7801198959350586\n"
     ]
    }
   ],
   "source": [
    "# Query the elements for themselves and measure recall:\n",
    "start = time.time()\n",
    "labels, distances = p.knn_query(queries, k=10)\n",
    "end = time.time()\n",
    "\n",
    "print(\"Recall:\", compute_recall(labels, glove_h5py['neighbors'][:, :10]))\n",
    "print(\"Time:\", end - start)"
   ]
  },
  {
   "cell_type": "markdown",
   "metadata": {},
   "source": [
    "### Serializing and deleting the index:"
   ]
  },
  {
   "cell_type": "code",
   "execution_count": 16,
   "metadata": {},
   "outputs": [],
   "source": [
    "p.save_index(\"index.bin\")\n",
    "del p"
   ]
  },
  {
   "cell_type": "markdown",
   "metadata": {},
   "source": [
    "### Re-initializing, loading the index"
   ]
  },
  {
   "cell_type": "code",
   "execution_count": null,
   "metadata": {},
   "outputs": [
    {
     "name": "stdout",
     "output_type": "stream",
     "text": [
      "Recall: 0.9126\n",
      "Time: 2.3662092685699463\n"
     ]
    }
   ],
   "source": [
    "p = hnswlib.Index(space='l2', dim=dim)  # the space can be changed - keeps the data, alters the distance function.\n",
    "\n",
    "# Increase the total capacity (max_elements), so that it will handle the new data\n",
    "p.load_index(\"index.bin\", max_elements=len(dataset))\n",
    "\n",
    "# you can add new data\n",
    "# p.add_items(data2)\n",
    "\n",
    "p.set_ef(100)\n",
    "start = time.time()\n",
    "labels, distances = p.knn_query(queries, k=10)\n",
    "end = time.time()\n",
    "\n",
    "print(\"Recall:\", compute_recall(labels, glove_h5py['neighbors'][:, :10]))\n",
    "print(\"Time:\", end - start)"
   ]
  },
  {
   "cell_type": "code",
   "execution_count": 7,
   "metadata": {},
   "outputs": [
    {
     "name": "stderr",
     "output_type": "stream",
     "text": [
      "\u001b[32m[I 2022-07-01 20:02:31,522]\u001b[0m A new study created in memory with name: no-name-8841d3fe-818f-4350-89e0-a4732de7fbd2\u001b[0m\n",
      "/home/ubuntu/.local/lib/python3.10/site-packages/optuna/distributions.py:560: UserWarning: The distribution is specified by [12, 200] and step=30, but the range is not divisible by `step`. It will be replaced by [12, 192].\n",
      "  warnings.warn(\n",
      "\u001b[32m[I 2022-07-01 20:07:03,046]\u001b[0m Trial 0 finished with value: 0.92649 and parameters: {'ef_search': 150, 'M': 162, 'ef_construction': 50}. Best is trial 0 with value: 0.92649.\u001b[0m\n",
      "/home/ubuntu/.local/lib/python3.10/site-packages/optuna/distributions.py:560: UserWarning: The distribution is specified by [12, 200] and step=30, but the range is not divisible by `step`. It will be replaced by [12, 192].\n",
      "  warnings.warn(\n",
      "\u001b[32m[I 2022-07-01 20:12:46,300]\u001b[0m Trial 1 finished with value: 0.96664 and parameters: {'ef_search': 300, 'M': 192, 'ef_construction': 150}. Best is trial 1 with value: 0.96664.\u001b[0m\n",
      "/home/ubuntu/.local/lib/python3.10/site-packages/optuna/distributions.py:560: UserWarning: The distribution is specified by [12, 200] and step=30, but the range is not divisible by `step`. It will be replaced by [12, 192].\n",
      "  warnings.warn(\n",
      "\u001b[32m[I 2022-07-01 20:16:12,731]\u001b[0m Trial 2 finished with value: 0.95276 and parameters: {'ef_search': 300, 'M': 132, 'ef_construction': 100}. Best is trial 1 with value: 0.96664.\u001b[0m\n",
      "/home/ubuntu/.local/lib/python3.10/site-packages/optuna/distributions.py:560: UserWarning: The distribution is specified by [12, 200] and step=30, but the range is not divisible by `step`. It will be replaced by [12, 192].\n",
      "  warnings.warn(\n",
      "\u001b[32m[I 2022-07-01 20:26:52,759]\u001b[0m Trial 3 finished with value: 0.87181 and parameters: {'ef_search': 50, 'M': 132, 'ef_construction': 300}. Best is trial 1 with value: 0.96664.\u001b[0m\n",
      "/home/ubuntu/.local/lib/python3.10/site-packages/optuna/distributions.py:560: UserWarning: The distribution is specified by [12, 200] and step=30, but the range is not divisible by `step`. It will be replaced by [12, 192].\n",
      "  warnings.warn(\n",
      "\u001b[32m[I 2022-07-01 20:30:13,784]\u001b[0m Trial 4 finished with value: 0.85582 and parameters: {'ef_search': 100, 'M': 42, 'ef_construction': 100}. Best is trial 1 with value: 0.96664.\u001b[0m\n",
      "/home/ubuntu/.local/lib/python3.10/site-packages/optuna/distributions.py:560: UserWarning: The distribution is specified by [12, 200] and step=30, but the range is not divisible by `step`. It will be replaced by [12, 192].\n",
      "  warnings.warn(\n",
      "\u001b[32m[I 2022-07-01 20:35:00,679]\u001b[0m Trial 5 finished with value: 0.86941 and parameters: {'ef_search': 300, 'M': 12, 'ef_construction': 300}. Best is trial 1 with value: 0.96664.\u001b[0m\n",
      "/home/ubuntu/.local/lib/python3.10/site-packages/optuna/distributions.py:560: UserWarning: The distribution is specified by [12, 200] and step=30, but the range is not divisible by `step`. It will be replaced by [12, 192].\n",
      "  warnings.warn(\n",
      "\u001b[32m[I 2022-07-01 20:38:33,834]\u001b[0m Trial 6 finished with value: 0.94077 and parameters: {'ef_search': 300, 'M': 102, 'ef_construction': 50}. Best is trial 1 with value: 0.96664.\u001b[0m\n",
      "/home/ubuntu/.local/lib/python3.10/site-packages/optuna/distributions.py:560: UserWarning: The distribution is specified by [12, 200] and step=30, but the range is not divisible by `step`. It will be replaced by [12, 192].\n",
      "  warnings.warn(\n",
      "\u001b[32m[I 2022-07-01 20:43:30,372]\u001b[0m Trial 7 finished with value: 0.90078 and parameters: {'ef_search': 100, 'M': 162, 'ef_construction': 100}. Best is trial 1 with value: 0.96664.\u001b[0m\n",
      "/home/ubuntu/.local/lib/python3.10/site-packages/optuna/distributions.py:560: UserWarning: The distribution is specified by [12, 200] and step=30, but the range is not divisible by `step`. It will be replaced by [12, 192].\n",
      "  warnings.warn(\n",
      "\u001b[32m[I 2022-07-01 20:49:23,688]\u001b[0m Trial 8 finished with value: 0.85678 and parameters: {'ef_search': 50, 'M': 192, 'ef_construction': 200}. Best is trial 1 with value: 0.96664.\u001b[0m\n",
      "/home/ubuntu/.local/lib/python3.10/site-packages/optuna/distributions.py:560: UserWarning: The distribution is specified by [12, 200] and step=30, but the range is not divisible by `step`. It will be replaced by [12, 192].\n",
      "  warnings.warn(\n",
      "\u001b[32m[I 2022-07-01 20:55:03,913]\u001b[0m Trial 9 finished with value: 0.90999 and parameters: {'ef_search': 100, 'M': 192, 'ef_construction': 50}. Best is trial 1 with value: 0.96664.\u001b[0m\n"
     ]
    },
    {
     "name": "stdout",
     "output_type": "stream",
     "text": [
      "Number of finished trials:  10\n",
      "Best trial:\n",
      "Value: 0.96664\n",
      "Params:\n",
      "    ef_search: 300\n",
      "    M: 192\n",
      "    ef_construction: 150\n"
     ]
    }
   ],
   "source": [
    "def objective(trial):\n",
    "    ef_search = trial.suggest_int(\"ef_search\", 50, 300, step=50)\n",
    "    M = trial.suggest_int(\"M\", 12, 200, step=30)\n",
    "    ef_construction = trial.suggest_int(\"ef_construction\", 50, 300, step=50)\n",
    "    # space = trial.suggest_categorical(\"space\", [\"l2\", \"cosine\", \"ip\"])\n",
    "    space = \"cosine\"\n",
    "    \n",
    "    dim = dataset.shape[-1]\n",
    "    p = hnswlib.Index(space=space, dim=dim)  # possible options are l2, cosine or ip\n",
    "    p.init_index(max_elements=len(dataset), ef_construction=ef_construction, M=M)\n",
    "    p.set_ef(ef_search)\n",
    "    p.add_items(dataset)\n",
    "    \n",
    "    labels, distances = p.knn_query(queries, k=10)\n",
    "    return compute_recall(labels, glove_h5py['neighbors'][:, :10])\n",
    "\n",
    "\n",
    "study = optuna.create_study(direction=\"maximize\")\n",
    "study.optimize(objective, n_trials=10)\n",
    "\n",
    "print(\"Number of finished trials: \", len(study.trials))\n",
    "print(\"Best trial:\")\n",
    "trial = study.best_trial\n",
    "\n",
    "print(f\"Value: {trial.value}\")\n",
    "print(\"Params:\")\n",
    "for key, value in trial.params.items():\n",
    "    print(f\"    {key}: {value}\")"
   ]
  },
  {
   "cell_type": "code",
   "execution_count": 10,
   "metadata": {},
   "outputs": [
    {
     "name": "stdout",
     "output_type": "stream",
     "text": [
      "Recall: 0.96669\n",
      "Time: 4.551661968231201\n"
     ]
    }
   ],
   "source": [
    "p = hnswlib.Index(space='cosine', dim=100)\n",
    "p.init_index(max_elements=len(dataset), ef_construction=150, M=192)\n",
    "p.set_ef(300)\n",
    "p.add_items(dataset)\n",
    "\n",
    "start = time.time()\n",
    "labels, distances = p.knn_query(queries, k=10)\n",
    "end = time.time()\n",
    "\n",
    "print(\"Recall:\", compute_recall(labels, glove_h5py['neighbors'][:, :10]))\n",
    "print(\"Time:\", end - start)"
   ]
  },
  {
   "cell_type": "code",
   "execution_count": 11,
   "metadata": {},
   "outputs": [
    {
     "name": "stdout",
     "output_type": "stream",
     "text": [
      "Time: 0.004340648651123047\n"
     ]
    }
   ],
   "source": [
    "start = time.time()\n",
    "labels, distances = p.knn_query([queries[0]], k=10)\n",
    "end = time.time()\n",
    "\n",
    "print(\"Time:\", end - start)"
   ]
  },
  {
   "cell_type": "code",
   "execution_count": null,
   "metadata": {},
   "outputs": [],
   "source": []
  }
 ],
 "metadata": {
  "kernelspec": {
   "display_name": "Python 3 (ipykernel)",
   "language": "python",
   "name": "python3"
  },
  "language_info": {
   "codemirror_mode": {
    "name": "ipython",
    "version": 3
   },
   "file_extension": ".py",
   "mimetype": "text/x-python",
   "name": "python",
   "nbconvert_exporter": "python",
   "pygments_lexer": "ipython3",
   "version": "3.10.4"
  }
 },
 "nbformat": 4,
 "nbformat_minor": 4
}
