{
 "cells": [
  {
   "cell_type": "code",
   "execution_count": 3,
   "id": "cc9024a9-a6f6-44f1-bdb2-632a9bd7a07d",
   "metadata": {},
   "outputs": [],
   "source": [
    "!pip install torch tensorboard"
   ]
  },
  {
   "cell_type": "code",
   "execution_count": 19,
   "id": "9f7ca6eb-475e-4987-8f70-b433afa65cef",
   "metadata": {},
   "outputs": [
    {
     "name": "stderr",
     "output_type": "stream",
     "text": [
      "100%|██████████| 4/4 [00:08<00:00,  2.01s/it]\n"
     ]
    }
   ],
   "source": [
    "import torch\n",
    "from tqdm import tqdm\n",
    "from time import sleep\n",
    "from torch.utils.tensorboard import SummaryWriter\n",
    "\n",
    "\n",
    "def run_experiment():\n",
    "    writer = SummaryWriter()\n",
    "\n",
    "    x = torch.arange(-5, 5, 0.1).view(-1, 1)\n",
    "    y = -5 * x + 0.1 * torch.randn(x.size())\n",
    "\n",
    "    model = torch.nn.Linear(1, 1)\n",
    "    criterion = torch.nn.MSELoss()\n",
    "    optimizer = torch.optim.SGD(model.parameters(), lr = 0.1)\n",
    "\n",
    "    def train_model(iter):\n",
    "        for epoch in range(iter):\n",
    "            y1 = model(x)\n",
    "            loss = criterion(y1, y)\n",
    "            writer.add_scalar(\"Loss/train\", loss, epoch)\n",
    "            optimizer.zero_grad()\n",
    "            loss.backward()\n",
    "            optimizer.step()\n",
    "\n",
    "    train_model(10)\n",
    "    writer.flush()\n",
    "    sleep(2)\n",
    "    \n",
    "for _ in tqdm(range(4)):\n",
    "    run_experiment()"
   ]
  },
  {
   "cell_type": "code",
   "execution_count": 20,
   "id": "501c5824-699a-480a-aa88-6ad94820b45a",
   "metadata": {},
   "outputs": [
    {
     "name": "stdout",
     "output_type": "stream",
     "text": [
      "\u001b[0m\u001b[01;34mJun17_07-28-25_torch-0\u001b[0m/  \u001b[01;34mJun17_07-28-29_torch-0\u001b[0m/\n",
      "\u001b[01;34mJun17_07-28-27_torch-0\u001b[0m/  \u001b[01;34mJun17_07-28-31_torch-0\u001b[0m/\n"
     ]
    }
   ],
   "source": [
    "ls runs/"
   ]
  },
  {
   "cell_type": "markdown",
   "id": "4689634f-3d7f-48f6-acf6-91b37ce26faf",
   "metadata": {},
   "source": [
    "Now you can navigate to Kubeflow Tensorboard Tab and create a new Tensorboard server with a PVC of a corresponding notebook pointing to \"runs\" directory"
   ]
  },
  {
   "cell_type": "code",
   "execution_count": null,
   "id": "bce78803-c11a-4a9b-968b-55979aedaef1",
   "metadata": {},
   "outputs": [],
   "source": []
  }
 ],
 "metadata": {
  "kernelspec": {
   "display_name": "Python 3",
   "language": "python",
   "name": "python3"
  },
  "language_info": {
   "codemirror_mode": {
    "name": "ipython",
    "version": 3
   },
   "file_extension": ".py",
   "mimetype": "text/x-python",
   "name": "python",
   "nbconvert_exporter": "python",
   "pygments_lexer": "ipython3",
   "version": "3.8.10"
  }
 },
 "nbformat": 4,
 "nbformat_minor": 5
}
