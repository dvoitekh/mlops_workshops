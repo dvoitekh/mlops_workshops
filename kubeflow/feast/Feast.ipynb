{
 "cells": [
  {
   "cell_type": "code",
   "execution_count": null,
   "id": "fb922a2c-4968-430f-84bc-a2eb3ca80a75",
   "metadata": {},
   "outputs": [],
   "source": [
    "# !pip install protobuf feast[aws] redis"
   ]
  },
  {
   "cell_type": "code",
   "execution_count": null,
   "id": "70bac79c-e0fe-4e27-9b1d-8e3dd5eeee0e",
   "metadata": {},
   "outputs": [],
   "source": [
    "# run feast ui in console:\n",
    "# feast ui -p 8081"
   ]
  },
  {
   "cell_type": "code",
   "execution_count": null,
   "id": "e2c4f9d7-154c-4c89-83fd-7330979c3374",
   "metadata": {},
   "outputs": [],
   "source": [
    "cd feature_store"
   ]
  },
  {
   "cell_type": "code",
   "execution_count": null,
   "id": "5c656477-41ef-4ed9-be95-cf0bf0ac3f9e",
   "metadata": {},
   "outputs": [],
   "source": [
    "# feast will read all files in the directory so need to delete checkpoints\n",
    "!rm -rf .ipynb_checkpoints"
   ]
  },
  {
   "cell_type": "code",
   "execution_count": null,
   "id": "164a6e54-4b8b-4df6-aab6-493591feca89",
   "metadata": {},
   "outputs": [],
   "source": [
    "!feast apply"
   ]
  },
  {
   "cell_type": "code",
   "execution_count": null,
   "id": "870a0572-d562-466d-aaa0-2e3129a2b4c3",
   "metadata": {},
   "outputs": [],
   "source": [
    "from feast import FeatureStore\n",
    "\n",
    "store = FeatureStore(repo_path=\".\")"
   ]
  },
  {
   "cell_type": "markdown",
   "id": "adb726e6-ac8d-4d4b-81c5-8b30e7981b32",
   "metadata": {},
   "source": [
    "## Offline queries"
   ]
  },
  {
   "cell_type": "code",
   "execution_count": null,
   "id": "120df41c-ab1d-4884-aa79-93beb32774ce",
   "metadata": {},
   "outputs": [],
   "source": [
    "import feast\n",
    "import pandas as pd\n",
    "from feast.infra.offline_stores.file_source import SavedDatasetFileStorage\n",
    "\n",
    "entity_df = pd.DataFrame.from_dict({\"HouseId\": [i for i in range(1, 1000)]})\n",
    "entity_df['event_timestamp'] = pd.to_datetime('now', utc=True)\n",
    "\n",
    "retrieval_job = store.get_historical_features(\n",
    "    entity_df=entity_df,\n",
    "    features=store.get_feature_service('house_service')\n",
    ")"
   ]
  },
  {
   "cell_type": "code",
   "execution_count": null,
   "id": "3c3b7c77-8e29-4491-958c-01c3c31b5a87",
   "metadata": {},
   "outputs": [],
   "source": [
    "retrieval_job.metadata.features"
   ]
  },
  {
   "cell_type": "code",
   "execution_count": null,
   "id": "47c08cf7-0f64-48e5-9f25-adf21525fc5e",
   "metadata": {},
   "outputs": [],
   "source": [
    "dataset = store.create_saved_dataset(\n",
    "    from_=retrieval_job,\n",
    "    name='merged_dataset_v1',\n",
    "    storage=SavedDatasetFileStorage('s3://dvoitekh-kubeflow/feast/data/merged_dataset_v1.parquet')\n",
    ")\n",
    "\n",
    "training_df = retrieval_job.to_df()\n",
    "print(len(training_df))\n",
    "training_df.head()"
   ]
  },
  {
   "cell_type": "code",
   "execution_count": null,
   "id": "04cee75c-83a8-4017-8f8a-10f56fa3f25a",
   "metadata": {},
   "outputs": [],
   "source": [
    "!feast materialize-incremental 2022-02-01T00:00:00"
   ]
  },
  {
   "cell_type": "markdown",
   "id": "180b0499-b6a1-43df-808b-a8df3b132de4",
   "metadata": {
    "tags": []
   },
   "source": [
    "## Online Queries"
   ]
  },
  {
   "cell_type": "code",
   "execution_count": null,
   "id": "3216c95f-8095-462e-9f2c-59038e091e69",
   "metadata": {},
   "outputs": [],
   "source": [
    "online_df = store.get_online_features(\n",
    "    features=[\n",
    "        \"house_main_view:MedInc\",\n",
    "        \"house_main_view:HouseAge\",\n",
    "        \"house_main_view:MedHouseVal\",\n",
    "        \"house_lat_lon_view:Latitude\",\n",
    "        \"house_lat_lon_view:Longitude\",\n",
    "    ],\n",
    "    entity_rows=[\n",
    "        {\"HouseId\": 1},\n",
    "        {\"HouseId\": 20640},\n",
    "    ]\n",
    ")\n",
    "online_df.to_df()"
   ]
  },
  {
   "cell_type": "code",
   "execution_count": null,
   "id": "9ffbf63b-dc00-42b8-861d-f8b6e6fb0e17",
   "metadata": {},
   "outputs": [],
   "source": [
    "!feast materialize-incremental 2022-06-11T00:00:00"
   ]
  },
  {
   "cell_type": "code",
   "execution_count": null,
   "id": "89f59f12-74fc-413f-94da-e7df74c30270",
   "metadata": {},
   "outputs": [],
   "source": [
    "online_df = store.get_online_features(\n",
    "    features=[\n",
    "        \"house_main_view:MedInc\",\n",
    "        \"house_main_view:HouseAge\",\n",
    "        \"house_main_view:MedHouseVal\",\n",
    "        \"house_lat_lon_view:Latitude\",\n",
    "        \"house_lat_lon_view:Longitude\",\n",
    "    ],\n",
    "    entity_rows=[\n",
    "        {\"HouseId\": 1},\n",
    "        {\"HouseId\": 20640},\n",
    "    ]\n",
    ")\n",
    "online_df.to_df()"
   ]
  },
  {
   "cell_type": "markdown",
   "id": "3dd8884a-0ac8-48dd-b45f-fb1c88069de5",
   "metadata": {},
   "source": [
    "## Push Source"
   ]
  },
  {
   "cell_type": "code",
   "execution_count": null,
   "id": "784859fd-a1a2-438e-a8eb-8482b57b7d14",
   "metadata": {},
   "outputs": [],
   "source": [
    "import datetime\n",
    "\n",
    "store.push('main_push_source', pd.DataFrame([{\n",
    "    'HouseId': 1,\n",
    "    'MedInc': 1.0,\n",
    "    'HouseAge': 1.0,\n",
    "    'AveRooms': 1.0,\n",
    "    'AveBedrms': 1.0,\n",
    "    'Population': 1.0,\n",
    "    'AveOccup': 1.0,\n",
    "    'MedHouseVal': 1.0,\n",
    "    'Latitude': 1.0,\n",
    "    'Longitude': 1.0,\n",
    "    'EventTimestamp': datetime.datetime.now(),\n",
    "    'Created': datetime.datetime.now(),\n",
    "}]))"
   ]
  },
  {
   "cell_type": "code",
   "execution_count": null,
   "id": "9c43a651-1242-479e-a82f-9a98bf8ac7ca",
   "metadata": {},
   "outputs": [],
   "source": [
    "online_df = store.get_online_features(\n",
    "    features=[\n",
    "        \"house_main_view:MedInc\",\n",
    "        \"house_main_view:HouseAge\",\n",
    "        \"house_main_view:MedHouseVal\",\n",
    "        \"house_lat_lon_view:Latitude\",\n",
    "        \"house_lat_lon_view:Longitude\",\n",
    "    ],\n",
    "    entity_rows=[\n",
    "        {\"HouseId\": 1},\n",
    "        {\"HouseId\": 20640},\n",
    "    ]\n",
    ")\n",
    "online_df.to_df()"
   ]
  },
  {
   "cell_type": "code",
   "execution_count": null,
   "id": "ff1aa1c6-4831-4b59-b685-3a7b819c83ab",
   "metadata": {},
   "outputs": [],
   "source": [
    "entity_df = pd.DataFrame.from_dict({\"HouseId\": [1]})\n",
    "entity_df['event_timestamp'] = pd.to_datetime('now', utc=True)\n",
    "\n",
    "store.get_historical_features(\n",
    "    entity_df=entity_df,\n",
    "    features=store.get_feature_service('house_service')\n",
    ").to_df()"
   ]
  },
  {
   "cell_type": "code",
   "execution_count": null,
   "id": "85f38200-708c-4f4d-b39b-4daadfa4fe71",
   "metadata": {},
   "outputs": [],
   "source": []
  }
 ],
 "metadata": {
  "kernelspec": {
   "display_name": "Python 3 (ipykernel)",
   "language": "python",
   "name": "python3"
  },
  "language_info": {
   "codemirror_mode": {
    "name": "ipython",
    "version": 3
   },
   "file_extension": ".py",
   "mimetype": "text/x-python",
   "name": "python",
   "nbconvert_exporter": "python",
   "pygments_lexer": "ipython3",
   "version": "3.9.6"
  }
 },
 "nbformat": 4,
 "nbformat_minor": 5
}
