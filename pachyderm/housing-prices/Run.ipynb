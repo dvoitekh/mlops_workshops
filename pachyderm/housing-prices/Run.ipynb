{
 "cells": [
  {
   "cell_type": "code",
   "execution_count": 126,
   "id": "65cddad9-0844-4656-bf3d-229447f04079",
   "metadata": {},
   "outputs": [],
   "source": [
    "!pip3 install numpy seaborn pandas scikit-learn pyarrow"
   ]
  },
  {
   "cell_type": "code",
   "execution_count": 111,
   "id": "e799dbcf-5e13-45d7-9bda-ce85c7f5c2bc",
   "metadata": {},
   "outputs": [
    {
     "name": "stdout",
     "output_type": "stream",
     "text": [
      "COMPONENT           VERSION             \n",
      "pachctl             2.2.2               \n",
      "pachd               2.2.2               \n"
     ]
    }
   ],
   "source": [
    "!pachctl version"
   ]
  },
  {
   "cell_type": "code",
   "execution_count": 9,
   "id": "cb4bdaa3-2bdb-4d68-ab11-3660a1f2dfc0",
   "metadata": {},
   "outputs": [
    {
     "name": "stdout",
     "output_type": "stream",
     "text": [
      "usage: regression.py [-h] [--input INPUT] [--target-col TARGET_COL]\n",
      "                     [--output DIR]\n",
      "\n",
      "Structured data regression\n",
      "\n",
      "options:\n",
      "  -h, --help            show this help message and exit\n",
      "  --input INPUT         csv file with all examples\n",
      "  --target-col TARGET_COL\n",
      "                        column with target values\n",
      "  --output DIR          output directory\n"
     ]
    }
   ],
   "source": [
    "!python3 regression.py --help"
   ]
  },
  {
   "cell_type": "markdown",
   "id": "b6f0b0ea-1db9-4d0a-9e4e-9eda4e8e35f5",
   "metadata": {},
   "source": [
    "## Step 1: Create an input data repository"
   ]
  },
  {
   "cell_type": "code",
   "execution_count": 10,
   "id": "729df378-c729-46f4-8f6c-8fbb49d3e8fd",
   "metadata": {},
   "outputs": [],
   "source": [
    "!pachctl create repo housing_data"
   ]
  },
  {
   "cell_type": "code",
   "execution_count": 11,
   "id": "69a648e1-2e6c-4160-a963-086ff4b6c801",
   "metadata": {},
   "outputs": [
    {
     "name": "stdout",
     "output_type": "stream",
     "text": [
      "NAME         CREATED       SIZE (MASTER) DESCRIPTION                       \n",
      "housing_data 7 seconds ago ≤ 0B                                            \n",
      "count        5 hours ago   ≤ 22B         Output repo for pipeline count.   \n",
      "data         6 hours ago   ≤ 728B                                          \n",
      "reduce       22 hours ago  ≤ 6.545KiB    Output repo for pipeline reduce.  \n",
      "map          22 hours ago  ≤ 8.583KiB    Output repo for pipeline map.     \n",
      "scraper      22 hours ago  ≤ 333.5KiB    Output repo for pipeline scraper. \n",
      "urls         22 hours ago  ≤ 119B                                          \n"
     ]
    }
   ],
   "source": [
    "!pachctl list repo"
   ]
  },
  {
   "cell_type": "markdown",
   "id": "126adef3-61b4-4b26-b9db-5642e435dc45",
   "metadata": {},
   "source": [
    "## Step 2: Create the regression pipeline"
   ]
  },
  {
   "cell_type": "code",
   "execution_count": 12,
   "id": "0362b7d0-55d8-4012-8db4-e00bcbba0287",
   "metadata": {},
   "outputs": [
    {
     "name": "stdout",
     "output_type": "stream",
     "text": [
      "{\n",
      "    \"pipeline\": {\n",
      "        \"name\": \"regression\"\n",
      "    },\n",
      "    \"description\": \"A pipeline that trains produces a regression model for housing prices.\",\n",
      "    \"input\": {\n",
      "        \"pfs\": {\n",
      "            \"glob\": \"/*\",\n",
      "            \"repo\": \"housing_data\"\n",
      "        }\n",
      "    },\n",
      "    \"transform\": {\n",
      "        \"cmd\": [\n",
      "            \"python\", \"regression.py\",\n",
      "            \"--input\", \"/pfs/housing_data/\",\n",
      "            \"--target-col\", \"MEDV\",\n",
      "            \"--output\", \"/pfs/out/\"\n",
      "        ],\n",
      "        \"image\": \"pachyderm/housing-prices:1.11.0\"\n",
      "    }\n",
      "}"
     ]
    }
   ],
   "source": [
    "!cat regression.json"
   ]
  },
  {
   "cell_type": "code",
   "execution_count": 13,
   "id": "3a2daeb4-422b-4d67-910d-0af17cfe81a7",
   "metadata": {},
   "outputs": [],
   "source": [
    "!pachctl create pipeline -f regression.json"
   ]
  },
  {
   "cell_type": "markdown",
   "id": "8de3e99e-68eb-4cb5-a87b-c9866d56b108",
   "metadata": {},
   "source": [
    "The pipeline writes the output to a PFS repo (/pfs/out/ in the pipeline json) created with the same name as the pipeline."
   ]
  },
  {
   "cell_type": "markdown",
   "id": "bbde4603-9810-4dd3-94a0-b41999c489d7",
   "metadata": {},
   "source": [
    "## Step 3: Add the housing dataset to the repo"
   ]
  },
  {
   "cell_type": "markdown",
   "id": "41952e7a-ea15-4b38-808f-5fd1afa7c445",
   "metadata": {},
   "source": [
    "Now we can add the data, which will kick off the processing automatically. If we update the data with a new commit, then the pipeline will automatically re-run."
   ]
  },
  {
   "cell_type": "code",
   "execution_count": 24,
   "id": "b801ae8e-5fa6-450f-bc01-e00ab563e291",
   "metadata": {},
   "outputs": [
    {
     "name": "stdout",
     "output_type": "stream",
     "text": [
      "data/housing-simplified-1.csv 2.54 KB / 2.54 KB [==================] 0s 0.00 b/s\n",
      "\u001b[1A\u001b[Jdata/housing-simplified-1.csv 2.54 KB / 2.54 KB [==================] 0s 0.00 b/s\n",
      "\u001b[1A\u001b[Jdata/housing-simplified-1.csv 2.54 KB / 2.54 KB [==================] 0s 0.00 b/s\n"
     ]
    }
   ],
   "source": [
    "!pachctl put file housing_data@master:housing-simplified.csv -f data/housing-simplified-1.csv"
   ]
  },
  {
   "cell_type": "code",
   "execution_count": 26,
   "id": "02e177da-d94e-4ee5-b088-5fc346116e45",
   "metadata": {},
   "outputs": [
    {
     "name": "stdout",
     "output_type": "stream",
     "text": [
      "NAME                    TYPE SIZE     \n",
      "/housing-simplified.csv file 2.482KiB \n"
     ]
    }
   ],
   "source": [
    "!pachctl list file housing_data@master"
   ]
  },
  {
   "cell_type": "code",
   "execution_count": 28,
   "id": "e1cebd86-6ff1-44c9-b7a3-796ec2e110fb",
   "metadata": {},
   "outputs": [
    {
     "name": "stdout",
     "output_type": "stream",
     "text": [
      "ID                               SUBJOBS PROGRESS CREATED            MODIFIED\n",
      "f8fa49a2838c495eaa51c1675684f82c 1       \u001b[32m▇\u001b[0m\u001b[32m▇\u001b[0m\u001b[32m▇\u001b[0m\u001b[32m▇\u001b[0m\u001b[32m▇\u001b[0m\u001b[32m▇\u001b[0m\u001b[32m▇\u001b[0m\u001b[32m▇\u001b[0m About a minute ago About a minute ago \n",
      "aa9373420c4146d393164a2857c0385a 1       \u001b[32m▇\u001b[0m\u001b[32m▇\u001b[0m\u001b[32m▇\u001b[0m\u001b[32m▇\u001b[0m\u001b[32m▇\u001b[0m\u001b[32m▇\u001b[0m\u001b[32m▇\u001b[0m\u001b[32m▇\u001b[0m 3 minutes ago      3 minutes ago      \n",
      "e168bea3fdbf49d2849354c2dc833dd9 1       \u001b[32m▇\u001b[0m\u001b[32m▇\u001b[0m\u001b[32m▇\u001b[0m\u001b[32m▇\u001b[0m\u001b[32m▇\u001b[0m\u001b[32m▇\u001b[0m\u001b[32m▇\u001b[0m\u001b[32m▇\u001b[0m 6 hours ago        6 hours ago        \n",
      "e35d00004c5b4288b6580c5c0519cc80 1       \u001b[32m▇\u001b[0m\u001b[32m▇\u001b[0m\u001b[32m▇\u001b[0m\u001b[32m▇\u001b[0m\u001b[32m▇\u001b[0m\u001b[32m▇\u001b[0m\u001b[32m▇\u001b[0m\u001b[32m▇\u001b[0m 6 hours ago        6 hours ago        \n",
      "ebee0fc1176c4e01a8093559cb893a5c 3       \u001b[32m▇\u001b[0m\u001b[32m▇\u001b[0m\u001b[32m▇\u001b[0m\u001b[32m▇\u001b[0m\u001b[32m▇\u001b[0m\u001b[32m▇\u001b[0m\u001b[32m▇\u001b[0m\u001b[32m▇\u001b[0m 6 hours ago        6 hours ago        \n",
      "f3b7d09fb53f49acb727ce0010027b9f 3       \u001b[32m▇\u001b[0m\u001b[32m▇\u001b[0m\u001b[32m▇\u001b[0m\u001b[32m▇\u001b[0m\u001b[32m▇\u001b[0m\u001b[32m▇\u001b[0m\u001b[32m▇\u001b[0m\u001b[32m▇\u001b[0m 22 hours ago       22 hours ago       \n",
      "0a1ef75590de4b56ae92470d7e2281ab 1       \u001b[32m▇\u001b[0m\u001b[32m▇\u001b[0m\u001b[32m▇\u001b[0m\u001b[32m▇\u001b[0m\u001b[32m▇\u001b[0m\u001b[32m▇\u001b[0m\u001b[32m▇\u001b[0m\u001b[32m▇\u001b[0m 23 hours ago       23 hours ago       \n",
      "47d4cc3c190648a2a31ce435c8e2f3d7 1       \u001b[32m▇\u001b[0m\u001b[32m▇\u001b[0m\u001b[32m▇\u001b[0m\u001b[32m▇\u001b[0m\u001b[32m▇\u001b[0m\u001b[32m▇\u001b[0m\u001b[32m▇\u001b[0m\u001b[32m▇\u001b[0m 23 hours ago       23 hours ago       \n",
      "2d03390e3d14482c925c595a82f94ba7 1       \u001b[32m▇\u001b[0m\u001b[32m▇\u001b[0m\u001b[32m▇\u001b[0m\u001b[32m▇\u001b[0m\u001b[32m▇\u001b[0m\u001b[32m▇\u001b[0m\u001b[32m▇\u001b[0m\u001b[32m▇\u001b[0m 23 hours ago       23 hours ago       \n"
     ]
    }
   ],
   "source": [
    "!pachctl list job"
   ]
  },
  {
   "cell_type": "markdown",
   "id": "0d1ede5f-5827-4b12-af76-724cccdf96ae",
   "metadata": {},
   "source": [
    "## Step 4: Download files once the pipeline has finished"
   ]
  },
  {
   "cell_type": "code",
   "execution_count": 30,
   "id": "3e6abef2-25ed-446b-b137-eefc3b3aec78",
   "metadata": {},
   "outputs": [
    {
     "name": "stdout",
     "output_type": "stream",
     "text": [
      "NAME                                  TYPE SIZE     \n",
      "/housing-simplified_corr_matrix.png   file 18.66KiB \n",
      "/housing-simplified_cv_reg_output.png file 77.1KiB  \n",
      "/housing-simplified_model.sav         file 798.5KiB \n",
      "/housing-simplified_pairplot.png      file 100.8KiB \n"
     ]
    }
   ],
   "source": [
    "!pachctl list file regression@master"
   ]
  },
  {
   "cell_type": "code",
   "execution_count": 31,
   "id": "078c509b-6850-464a-93d5-1a2da5808b7e",
   "metadata": {},
   "outputs": [],
   "source": [
    "!pachctl get file regression@master:/ --recursive --output ."
   ]
  },
  {
   "cell_type": "markdown",
   "id": "35783dbc-7379-4e7e-9160-f73e39d95352",
   "metadata": {},
   "source": [
    "## Step 5: Update Dataset"
   ]
  },
  {
   "cell_type": "markdown",
   "id": "4553bb26-6dd0-4dda-8af7-5282912c0be3",
   "metadata": {},
   "source": [
    "Here's where Pachyderm truly starts to shine. To update our dataset we can run the following command (note that we could also append new examples to the existing file, but in this example we're simply overwriting our previous file to one with more data):"
   ]
  },
  {
   "cell_type": "code",
   "execution_count": 33,
   "id": "5ba5a9a8-57a9-45eb-972d-a97460399949",
   "metadata": {},
   "outputs": [
    {
     "name": "stdout",
     "output_type": "stream",
     "text": [
      "data/housing-simplified-2.csv 12.44 KB / 12.44 KB [================] 0s 0.00 b/s\n",
      "\u001b[1A\u001b[Jdata/housing-simplified-2.csv 12.44 KB / 12.44 KB [================] 0s 0.00 b/s\n",
      "\u001b[1A\u001b[Jdata/housing-simplified-2.csv 12.44 KB / 12.44 KB [================] 0s 0.00 b/s\n"
     ]
    }
   ],
   "source": [
    "!pachctl put file housing_data@master:housing-simplified.csv -f data/housing-simplified-2.csv"
   ]
  },
  {
   "cell_type": "code",
   "execution_count": 47,
   "id": "c5e6e7b0-468e-41f9-b382-faa1977720cf",
   "metadata": {},
   "outputs": [
    {
     "name": "stdout",
     "output_type": "stream",
     "text": [
      "REPO         BRANCH COMMIT                           FINISHED           SIZE     ORIGIN DESCRIPTION\n",
      "housing_data master 68e7175eac3f4654b141e05c3769807d About a minute ago 12.14KiB USER    \n",
      "housing_data master f8fa49a2838c495eaa51c1675684f82c 4 minutes ago      2.482KiB USER    \n",
      "housing_data master aa9373420c4146d393164a2857c0385a 7 minutes ago      0B       AUTO    \n"
     ]
    }
   ],
   "source": [
    "!pachctl list commit housing_data@master"
   ]
  },
  {
   "cell_type": "code",
   "execution_count": 45,
   "id": "f2e26071-5116-4f78-88de-1b6ae86a6786",
   "metadata": {},
   "outputs": [
    {
     "name": "stdout",
     "output_type": "stream",
     "text": [
      "NAME                    TYPE SIZE     \n",
      "/housing-simplified.csv file 12.14KiB \n"
     ]
    }
   ],
   "source": [
    "!pachctl list file housing_data@master"
   ]
  },
  {
   "cell_type": "code",
   "execution_count": 46,
   "id": "3664fd28-a24d-4dd8-b63e-1609ab93eec4",
   "metadata": {},
   "outputs": [
    {
     "name": "stdout",
     "output_type": "stream",
     "text": [
      "NAME                    TYPE SIZE     \n",
      "/housing-simplified.csv file 2.482KiB \n"
     ]
    }
   ],
   "source": [
    "!pachctl list file housing_data@master^1"
   ]
  },
  {
   "cell_type": "code",
   "execution_count": 49,
   "id": "2f4e566a-5b0d-4628-8625-cc85e1d2a0d2",
   "metadata": {},
   "outputs": [
    {
     "name": "stdout",
     "output_type": "stream",
     "text": [
      "REPO       BRANCH COMMIT                           FINISHED      SIZE     ORIGIN DESCRIPTION\n",
      "regression master 68e7175eac3f4654b141e05c3769807d 2 minutes ago 4.029MiB AUTO    \n",
      "regression master f8fa49a2838c495eaa51c1675684f82c 5 minutes ago 995.1KiB AUTO    \n",
      "regression master aa9373420c4146d393164a2857c0385a 7 minutes ago 0B       AUTO    \n"
     ]
    }
   ],
   "source": [
    "!pachctl list commit regression@master"
   ]
  },
  {
   "cell_type": "markdown",
   "id": "f1dc701c-8370-451f-beff-97d52d4a7e5a",
   "metadata": {},
   "source": [
    "## Test the model"
   ]
  },
  {
   "cell_type": "code",
   "execution_count": 110,
   "id": "0358bb3e-eb7e-4012-b5b3-6efcbf9dfe68",
   "metadata": {},
   "outputs": [
    {
     "name": "stderr",
     "output_type": "stream",
     "text": [
      "/home/ubuntu/.local/lib/python3.10/site-packages/sklearn/base.py:329: UserWarning: Trying to unpickle estimator DecisionTreeRegressor from version 0.22.1 when using version 1.1.1. This might lead to breaking code or invalid results. Use at your own risk. For more info please refer to:\n",
      "https://scikit-learn.org/stable/model_persistence.html#security-maintainability-limitations\n",
      "  warnings.warn(\n",
      "/home/ubuntu/.local/lib/python3.10/site-packages/sklearn/base.py:329: UserWarning: Trying to unpickle estimator RandomForestRegressor from version 0.22.1 when using version 1.1.1. This might lead to breaking code or invalid results. Use at your own risk. For more info please refer to:\n",
      "https://scikit-learn.org/stable/model_persistence.html#security-maintainability-limitations\n",
      "  warnings.warn(\n"
     ]
    },
    {
     "data": {
      "text/plain": [
       "array([542787.])"
      ]
     },
     "execution_count": 110,
     "metadata": {},
     "output_type": "execute_result"
    }
   ],
   "source": [
    "import joblib\n",
    "\n",
    "model = joblib.load('housing-simplified_model.sav')\n",
    "model.predict([[1,1,1]])"
   ]
  },
  {
   "cell_type": "markdown",
   "id": "cb68d9d1-9a87-4737-b85a-c4c13dfe5c38",
   "metadata": {},
   "source": [
    "## Deploy Seldon service"
   ]
  },
  {
   "cell_type": "code",
   "execution_count": 85,
   "id": "520ea15d-29b6-4b97-8905-471c4c8919b6",
   "metadata": {},
   "outputs": [
    {
     "name": "stdout",
     "output_type": "stream",
     "text": [
      "Overwriting secret.yaml\n"
     ]
    }
   ],
   "source": [
    "%%writefile secret.yaml\n",
    "    \n",
    "apiVersion: v1\n",
    "kind: Secret\n",
    "metadata:\n",
    "  name: seldon-init-container-secret\n",
    "type: Opaque\n",
    "stringData:\n",
    "  RCLONE_CONFIG_S3_TYPE: s3\n",
    "  RCLONE_CONFIG_S3_PROVIDER: minio\n",
    "  RCLONE_CONFIG_S3_ENV_AUTH: \"false\"\n",
    "  RCLONE_CONFIG_S3_ACCESS_KEY_ID: \"\"\n",
    "  RCLONE_CONFIG_S3_SECRET_ACCESS_KEY: \"\"\n",
    "  RCLONE_CONFIG_S3_ENDPOINT: http://pachd.pachyderm.svc.cluster.local:30600"
   ]
  },
  {
   "cell_type": "code",
   "execution_count": 86,
   "id": "b12030d4-0591-45f5-bbe6-60a86d7d2286",
   "metadata": {},
   "outputs": [
    {
     "name": "stdout",
     "output_type": "stream",
     "text": [
      "secret/seldon-init-container-secret configured\n"
     ]
    }
   ],
   "source": [
    "!kubectl -n seldon apply -f secret.yaml"
   ]
  },
  {
   "cell_type": "code",
   "execution_count": null,
   "id": "2b3a673e-e0d1-4d53-b7df-62d918ea9740",
   "metadata": {},
   "outputs": [],
   "source": [
    "seldon sklearn server requires model to be named model.joblib"
   ]
  },
  {
   "cell_type": "code",
   "execution_count": 72,
   "id": "bd901ecc-551f-4f45-a495-16e0a397c371",
   "metadata": {},
   "outputs": [
    {
     "name": "stdout",
     "output_type": "stream",
     "text": [
      "housing-simplified_model.sav 3.91 MB / 3.91 MB [===================] 0s 0.00 b/s\n",
      "\u001b[1A\u001b[Jhousing-simplified_model.sav 3.91 MB / 3.91 MB [===================] 0s 0.00 b/s\n",
      "\u001b[1A\u001b[Jhousing-simplified_model.sav 3.91 MB / 3.91 MB [===================] 0s 0.00 b/s\n",
      "\u001b[1A\u001b[Jhousing-simplified_model.sav 3.91 MB / 3.91 MB [===================] 0s 0.00 b/s\n",
      "cannot start a commit on an output branch: regression@master\n"
     ]
    }
   ],
   "source": [
    "!pachctl create repo seldon_models\n",
    "!pachctl put file seldon_models@master:model.joblib -f housing-simplified_model.sav"
   ]
  },
  {
   "cell_type": "code",
   "execution_count": 117,
   "id": "d1af494a-a176-475b-9166-57eb72d0ba7c",
   "metadata": {},
   "outputs": [
    {
     "name": "stdout",
     "output_type": "stream",
     "text": [
      "NAME          TYPE SIZE     \n",
      "/model.joblib file 798.5KiB \n"
     ]
    }
   ],
   "source": [
    "!pachctl list file seldon_models@master"
   ]
  },
  {
   "cell_type": "code",
   "execution_count": 88,
   "id": "5ba26e01-b519-4561-9537-efa250f5ff7f",
   "metadata": {},
   "outputs": [
    {
     "name": "stdout",
     "output_type": "stream",
     "text": [
      "Overwriting deploy.yaml\n"
     ]
    }
   ],
   "source": [
    "%%writefile deploy.yaml\n",
    "\n",
    "apiVersion: machinelearning.seldon.io/v1\n",
    "kind: SeldonDeployment\n",
    "metadata:\n",
    "  name: housing-regressor\n",
    "spec:\n",
    "  predictors:\n",
    "  - name: default\n",
    "    replicas: 1\n",
    "    graph:\n",
    "      name: regressor\n",
    "      implementation: SKLEARN_SERVER\n",
    "      modelUri: s3://master.seldon_models\n",
    "      storageInitializerImage: seldonio/rclone-storage-initializer:1.14.0-dev\n",
    "      envSecretRefName: seldon-init-container-secret"
   ]
  },
  {
   "cell_type": "code",
   "execution_count": 89,
   "id": "bfb36469-8377-4cff-917b-a623136fde09",
   "metadata": {},
   "outputs": [
    {
     "name": "stdout",
     "output_type": "stream",
     "text": [
      "seldondeployment.machinelearning.seldon.io \"housing-regressor\" deleted\n"
     ]
    }
   ],
   "source": [
    "!kubectl -n seldon apply -f deploy.yaml"
   ]
  },
  {
   "cell_type": "code",
   "execution_count": 91,
   "id": "7a676ab3-37c0-47e9-8c1f-95414b95b08b",
   "metadata": {},
   "outputs": [
    {
     "name": "stdout",
     "output_type": "stream",
     "text": [
      "NAME                                                     READY   STATUS    RESTARTS   AGE\n",
      "housing-regressor-default-0-regressor-846bb666f7-kczjm   2/2     Running   0          74s\n"
     ]
    }
   ],
   "source": [
    "!kubectl -n seldon get po"
   ]
  },
  {
   "cell_type": "code",
   "execution_count": 105,
   "id": "cb4696b2-8b23-45ae-ba1e-7c45f23cab99",
   "metadata": {},
   "outputs": [],
   "source": [
    "%%bash\n",
    "curl -s -X POST -H 'Content-Type: application/json' \\\n",
    "    -d '{\"data\":{\"ndarray\":[[1,1,1]]}}' \\\n",
    "    http://localhost:7000/api/v1.0/predictions"
   ]
  },
  {
   "cell_type": "markdown",
   "id": "b5bc5504-9c9a-4291-b98b-888c09434f75",
   "metadata": {},
   "source": [
    "## Upload files for the next demo"
   ]
  },
  {
   "cell_type": "code",
   "execution_count": 127,
   "id": "0089e48b-86ba-4d18-964d-d262f34f9f25",
   "metadata": {},
   "outputs": [
    {
     "data": {
      "text/html": [
       "<div>\n",
       "<style scoped>\n",
       "    .dataframe tbody tr th:only-of-type {\n",
       "        vertical-align: middle;\n",
       "    }\n",
       "\n",
       "    .dataframe tbody tr th {\n",
       "        vertical-align: top;\n",
       "    }\n",
       "\n",
       "    .dataframe thead th {\n",
       "        text-align: right;\n",
       "    }\n",
       "</style>\n",
       "<table border=\"1\" class=\"dataframe\">\n",
       "  <thead>\n",
       "    <tr style=\"text-align: right;\">\n",
       "      <th></th>\n",
       "      <th>HouseId</th>\n",
       "      <th>MedInc</th>\n",
       "      <th>HouseAge</th>\n",
       "      <th>AveRooms</th>\n",
       "      <th>AveBedrms</th>\n",
       "      <th>Population</th>\n",
       "      <th>AveOccup</th>\n",
       "      <th>MedHouseVal</th>\n",
       "      <th>EventTimestamp</th>\n",
       "      <th>Created</th>\n",
       "    </tr>\n",
       "  </thead>\n",
       "  <tbody>\n",
       "    <tr>\n",
       "      <th>0</th>\n",
       "      <td>1</td>\n",
       "      <td>2.4792</td>\n",
       "      <td>24.0</td>\n",
       "      <td>3.454704</td>\n",
       "      <td>1.134146</td>\n",
       "      <td>2251.0</td>\n",
       "      <td>3.921603</td>\n",
       "      <td>2.000</td>\n",
       "      <td>2021-12-11 18:40:03</td>\n",
       "      <td>2022-04-12 12:04:13</td>\n",
       "    </tr>\n",
       "    <tr>\n",
       "      <th>1</th>\n",
       "      <td>2</td>\n",
       "      <td>3.4630</td>\n",
       "      <td>8.0</td>\n",
       "      <td>6.363636</td>\n",
       "      <td>1.166297</td>\n",
       "      <td>1307.0</td>\n",
       "      <td>2.898004</td>\n",
       "      <td>2.017</td>\n",
       "      <td>2021-12-11 18:57:30</td>\n",
       "      <td>2022-04-12 12:04:13</td>\n",
       "    </tr>\n",
       "    <tr>\n",
       "      <th>2</th>\n",
       "      <td>3</td>\n",
       "      <td>3.7500</td>\n",
       "      <td>16.0</td>\n",
       "      <td>5.768719</td>\n",
       "      <td>1.023295</td>\n",
       "      <td>1478.0</td>\n",
       "      <td>2.459235</td>\n",
       "      <td>1.473</td>\n",
       "      <td>2021-12-11 19:00:05</td>\n",
       "      <td>2022-04-12 12:04:13</td>\n",
       "    </tr>\n",
       "    <tr>\n",
       "      <th>3</th>\n",
       "      <td>4</td>\n",
       "      <td>2.8542</td>\n",
       "      <td>34.0</td>\n",
       "      <td>3.858779</td>\n",
       "      <td>1.045802</td>\n",
       "      <td>1164.0</td>\n",
       "      <td>4.442748</td>\n",
       "      <td>1.469</td>\n",
       "      <td>2021-12-11 19:23:36</td>\n",
       "      <td>2022-04-12 12:04:13</td>\n",
       "    </tr>\n",
       "    <tr>\n",
       "      <th>4</th>\n",
       "      <td>5</td>\n",
       "      <td>1.3375</td>\n",
       "      <td>18.0</td>\n",
       "      <td>4.567625</td>\n",
       "      <td>1.087327</td>\n",
       "      <td>2707.0</td>\n",
       "      <td>2.882854</td>\n",
       "      <td>0.596</td>\n",
       "      <td>2021-12-11 19:23:53</td>\n",
       "      <td>2022-04-12 12:04:13</td>\n",
       "    </tr>\n",
       "  </tbody>\n",
       "</table>\n",
       "</div>"
      ],
      "text/plain": [
       "   HouseId  MedInc  HouseAge  AveRooms  AveBedrms  Population  AveOccup  \\\n",
       "0        1  2.4792      24.0  3.454704   1.134146      2251.0  3.921603   \n",
       "1        2  3.4630       8.0  6.363636   1.166297      1307.0  2.898004   \n",
       "2        3  3.7500      16.0  5.768719   1.023295      1478.0  2.459235   \n",
       "3        4  2.8542      34.0  3.858779   1.045802      1164.0  4.442748   \n",
       "4        5  1.3375      18.0  4.567625   1.087327      2707.0  2.882854   \n",
       "\n",
       "   MedHouseVal      EventTimestamp             Created  \n",
       "0        2.000 2021-12-11 18:40:03 2022-04-12 12:04:13  \n",
       "1        2.017 2021-12-11 18:57:30 2022-04-12 12:04:13  \n",
       "2        1.473 2021-12-11 19:00:05 2022-04-12 12:04:13  \n",
       "3        1.469 2021-12-11 19:23:36 2022-04-12 12:04:13  \n",
       "4        0.596 2021-12-11 19:23:53 2022-04-12 12:04:13  "
      ]
     },
     "execution_count": 127,
     "metadata": {},
     "output_type": "execute_result"
    }
   ],
   "source": [
    "import pandas as pd\n",
    "pd.read_parquet('data/house_dataset_main.parquet').head()"
   ]
  },
  {
   "cell_type": "code",
   "execution_count": 128,
   "id": "876efed0-7c12-469a-bc77-4455c368383c",
   "metadata": {},
   "outputs": [
    {
     "data": {
      "text/html": [
       "<div>\n",
       "<style scoped>\n",
       "    .dataframe tbody tr th:only-of-type {\n",
       "        vertical-align: middle;\n",
       "    }\n",
       "\n",
       "    .dataframe tbody tr th {\n",
       "        vertical-align: top;\n",
       "    }\n",
       "\n",
       "    .dataframe thead th {\n",
       "        text-align: right;\n",
       "    }\n",
       "</style>\n",
       "<table border=\"1\" class=\"dataframe\">\n",
       "  <thead>\n",
       "    <tr style=\"text-align: right;\">\n",
       "      <th></th>\n",
       "      <th>HouseId</th>\n",
       "      <th>Latitude</th>\n",
       "      <th>Longitude</th>\n",
       "      <th>EventTimestamp</th>\n",
       "      <th>Created</th>\n",
       "    </tr>\n",
       "  </thead>\n",
       "  <tbody>\n",
       "    <tr>\n",
       "      <th>0</th>\n",
       "      <td>1</td>\n",
       "      <td>34.18</td>\n",
       "      <td>-118.38</td>\n",
       "      <td>2021-12-11 18:40:03</td>\n",
       "      <td>2022-02-13 22:43:53</td>\n",
       "    </tr>\n",
       "    <tr>\n",
       "      <th>1</th>\n",
       "      <td>2</td>\n",
       "      <td>39.08</td>\n",
       "      <td>-121.04</td>\n",
       "      <td>2021-12-11 18:57:30</td>\n",
       "      <td>2022-02-13 22:43:53</td>\n",
       "    </tr>\n",
       "    <tr>\n",
       "      <th>2</th>\n",
       "      <td>3</td>\n",
       "      <td>38.68</td>\n",
       "      <td>-121.28</td>\n",
       "      <td>2021-12-11 19:00:05</td>\n",
       "      <td>2022-02-13 22:43:53</td>\n",
       "    </tr>\n",
       "    <tr>\n",
       "      <th>3</th>\n",
       "      <td>4</td>\n",
       "      <td>34.04</td>\n",
       "      <td>-118.19</td>\n",
       "      <td>2021-12-11 19:23:36</td>\n",
       "      <td>2022-02-13 22:43:53</td>\n",
       "    </tr>\n",
       "    <tr>\n",
       "      <th>4</th>\n",
       "      <td>5</td>\n",
       "      <td>39.13</td>\n",
       "      <td>-121.54</td>\n",
       "      <td>2021-12-11 19:23:53</td>\n",
       "      <td>2022-02-13 22:43:53</td>\n",
       "    </tr>\n",
       "  </tbody>\n",
       "</table>\n",
       "</div>"
      ],
      "text/plain": [
       "   HouseId  Latitude  Longitude      EventTimestamp             Created\n",
       "0        1     34.18    -118.38 2021-12-11 18:40:03 2022-02-13 22:43:53\n",
       "1        2     39.08    -121.04 2021-12-11 18:57:30 2022-02-13 22:43:53\n",
       "2        3     38.68    -121.28 2021-12-11 19:00:05 2022-02-13 22:43:53\n",
       "3        4     34.04    -118.19 2021-12-11 19:23:36 2022-02-13 22:43:53\n",
       "4        5     39.13    -121.54 2021-12-11 19:23:53 2022-02-13 22:43:53"
      ]
     },
     "execution_count": 128,
     "metadata": {},
     "output_type": "execute_result"
    }
   ],
   "source": [
    "import pandas as pd\n",
    "pd.read_parquet('data/house_dataset_lat_lon.parquet').head()"
   ]
  },
  {
   "cell_type": "code",
   "execution_count": 120,
   "id": "72b3ce99-5374-4e2f-a1a1-c1a7683c9ee7",
   "metadata": {},
   "outputs": [
    {
     "name": "stdout",
     "output_type": "stream",
     "text": [
      "data/house_dataset_lat_lon.parquet 362.91 KB / 362.91 KB [=========] 0s 0.00 b/s\n",
      "\u001b[1A\u001b[Jdata/house_dataset_lat_lon.parquet 362.91 KB / 362.91 KB [=========] 0s 0.00 b/s\n",
      "\u001b[1A\u001b[Jdata/house_dataset_lat_lon.parquet 362.91 KB / 362.91 KB [=========] 0s 0.00 b/s\n",
      "data/house_dataset_main.parquet 1.06 MB / 1.06 MB [================] 0s 0.00 b/s\n",
      "\u001b[1A\u001b[Jdata/house_dataset_main.parquet 1.06 MB / 1.06 MB [================] 0s 0.00 b/s\n"
     ]
    }
   ],
   "source": [
    "!pachctl create repo feast\n",
    "!pachctl put file feast@master:house_dataset_lat_lon.parquet -f data/house_dataset_lat_lon.parquet\n",
    "!pachctl put file feast@master:house_dataset_main.parquet -f data/house_dataset_main.parquet"
   ]
  },
  {
   "cell_type": "code",
   "execution_count": 123,
   "id": "23c2c2da-9a3f-4bd2-b02c-9f63caee2514",
   "metadata": {},
   "outputs": [
    {
     "name": "stdout",
     "output_type": "stream",
     "text": [
      "NAME                           TYPE SIZE     \n",
      "/house_dataset_lat_lon.parquet file 354.4KiB \n",
      "/house_dataset_main.parquet    file 1.012MiB \n"
     ]
    }
   ],
   "source": [
    "!pachctl list file feast@master"
   ]
  },
  {
   "cell_type": "code",
   "execution_count": null,
   "id": "4071047c-25c7-4de1-98ff-6ad0833cdda9",
   "metadata": {},
   "outputs": [],
   "source": []
  }
 ],
 "metadata": {
  "kernelspec": {
   "display_name": "Python 3 (ipykernel)",
   "language": "python",
   "name": "python3"
  },
  "language_info": {
   "codemirror_mode": {
    "name": "ipython",
    "version": 3
   },
   "file_extension": ".py",
   "mimetype": "text/x-python",
   "name": "python",
   "nbconvert_exporter": "python",
   "pygments_lexer": "ipython3",
   "version": "3.10.4"
  }
 },
 "nbformat": 4,
 "nbformat_minor": 5
}
