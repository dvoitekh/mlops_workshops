{
 "cells": [
  {
   "cell_type": "markdown",
   "id": "6db47064-3167-4c40-ae05-3ff11e83690d",
   "metadata": {},
   "source": [
    "## Pachyderm preprocessing -> training -> artifacts -> Seldon deployment"
   ]
  },
  {
   "cell_type": "code",
   "execution_count": 225,
   "id": "65cddad9-0844-4656-bf3d-229447f04079",
   "metadata": {},
   "outputs": [],
   "source": [
    "!pip3 install numpy seaborn pandas scikit-learn pyarrow seldon-core werkzeug==2.0.3"
   ]
  },
  {
   "cell_type": "code",
   "execution_count": 111,
   "id": "e799dbcf-5e13-45d7-9bda-ce85c7f5c2bc",
   "metadata": {},
   "outputs": [
    {
     "name": "stdout",
     "output_type": "stream",
     "text": [
      "COMPONENT           VERSION             \n",
      "pachctl             2.2.2               \n",
      "pachd               2.2.2               \n"
     ]
    }
   ],
   "source": [
    "!pachctl version"
   ]
  },
  {
   "cell_type": "code",
   "execution_count": 11,
   "id": "cb4bdaa3-2bdb-4d68-ab11-3660a1f2dfc0",
   "metadata": {},
   "outputs": [
    {
     "name": "stdout",
     "output_type": "stream",
     "text": [
      "usage: regression.py [-h] [--input INPUT] [--target-col TARGET_COL]\n",
      "                     [--output DIR]\n",
      "\n",
      "Structured data regression\n",
      "\n",
      "options:\n",
      "  -h, --help            show this help message and exit\n",
      "  --input INPUT         csv file with all examples\n",
      "  --target-col TARGET_COL\n",
      "                        column with target values\n",
      "  --output DIR          output directory\n"
     ]
    }
   ],
   "source": [
    "!python3 regression.py --help"
   ]
  },
  {
   "cell_type": "markdown",
   "id": "b6f0b0ea-1db9-4d0a-9e4e-9eda4e8e35f5",
   "metadata": {},
   "source": [
    "## Step 1: Create an input data repository"
   ]
  },
  {
   "cell_type": "code",
   "execution_count": 10,
   "id": "729df378-c729-46f4-8f6c-8fbb49d3e8fd",
   "metadata": {},
   "outputs": [],
   "source": [
    "!pachctl create repo housing_data"
   ]
  },
  {
   "cell_type": "code",
   "execution_count": 11,
   "id": "69a648e1-2e6c-4160-a963-086ff4b6c801",
   "metadata": {},
   "outputs": [
    {
     "name": "stdout",
     "output_type": "stream",
     "text": [
      "NAME         CREATED       SIZE (MASTER) DESCRIPTION                       \n",
      "housing_data 7 seconds ago ≤ 0B                                            \n",
      "count        5 hours ago   ≤ 22B         Output repo for pipeline count.   \n",
      "data         6 hours ago   ≤ 728B                                          \n",
      "reduce       22 hours ago  ≤ 6.545KiB    Output repo for pipeline reduce.  \n",
      "map          22 hours ago  ≤ 8.583KiB    Output repo for pipeline map.     \n",
      "scraper      22 hours ago  ≤ 333.5KiB    Output repo for pipeline scraper. \n",
      "urls         22 hours ago  ≤ 119B                                          \n"
     ]
    }
   ],
   "source": [
    "!pachctl list repo"
   ]
  },
  {
   "cell_type": "markdown",
   "id": "126adef3-61b4-4b26-b9db-5642e435dc45",
   "metadata": {},
   "source": [
    "## Step 2: Create the regression pipeline"
   ]
  },
  {
   "cell_type": "code",
   "execution_count": 12,
   "id": "0362b7d0-55d8-4012-8db4-e00bcbba0287",
   "metadata": {},
   "outputs": [
    {
     "name": "stdout",
     "output_type": "stream",
     "text": [
      "{\n",
      "    \"pipeline\": {\n",
      "        \"name\": \"regression\"\n",
      "    },\n",
      "    \"description\": \"A pipeline that trains produces a regression model for housing prices.\",\n",
      "    \"input\": {\n",
      "        \"pfs\": {\n",
      "            \"glob\": \"/*\",\n",
      "            \"repo\": \"housing_data\"\n",
      "        }\n",
      "    },\n",
      "    \"transform\": {\n",
      "        \"cmd\": [\n",
      "            \"python\", \"regression.py\",\n",
      "            \"--input\", \"/pfs/housing_data/\",\n",
      "            \"--target-col\", \"MEDV\",\n",
      "            \"--output\", \"/pfs/out/\"\n",
      "        ],\n",
      "        \"image\": \"pachyderm/housing-prices:1.11.0\"\n",
      "    }\n",
      "}"
     ]
    }
   ],
   "source": [
    "!cat regression.json"
   ]
  },
  {
   "cell_type": "code",
   "execution_count": 13,
   "id": "3a2daeb4-422b-4d67-910d-0af17cfe81a7",
   "metadata": {},
   "outputs": [],
   "source": [
    "!pachctl create pipeline -f regression.json"
   ]
  },
  {
   "cell_type": "markdown",
   "id": "8de3e99e-68eb-4cb5-a87b-c9866d56b108",
   "metadata": {},
   "source": [
    "The pipeline writes the output to a PFS repo (/pfs/out/ in the pipeline json) created with the same name as the pipeline."
   ]
  },
  {
   "cell_type": "markdown",
   "id": "bbde4603-9810-4dd3-94a0-b41999c489d7",
   "metadata": {},
   "source": [
    "## Step 3: Add the housing dataset to the repo"
   ]
  },
  {
   "cell_type": "markdown",
   "id": "41952e7a-ea15-4b38-808f-5fd1afa7c445",
   "metadata": {},
   "source": [
    "Now we can add the data, which will kick off the processing automatically. If we update the data with a new commit, then the pipeline will automatically re-run."
   ]
  },
  {
   "cell_type": "code",
   "execution_count": 24,
   "id": "b801ae8e-5fa6-450f-bc01-e00ab563e291",
   "metadata": {},
   "outputs": [
    {
     "name": "stdout",
     "output_type": "stream",
     "text": [
      "data/housing-simplified-1.csv 2.54 KB / 2.54 KB [==================] 0s 0.00 b/s\n",
      "\u001b[1A\u001b[Jdata/housing-simplified-1.csv 2.54 KB / 2.54 KB [==================] 0s 0.00 b/s\n",
      "\u001b[1A\u001b[Jdata/housing-simplified-1.csv 2.54 KB / 2.54 KB [==================] 0s 0.00 b/s\n"
     ]
    }
   ],
   "source": [
    "!pachctl put file housing_data@master:housing-simplified.csv -f data/housing-simplified-1.csv"
   ]
  },
  {
   "cell_type": "code",
   "execution_count": 26,
   "id": "02e177da-d94e-4ee5-b088-5fc346116e45",
   "metadata": {},
   "outputs": [
    {
     "name": "stdout",
     "output_type": "stream",
     "text": [
      "NAME                    TYPE SIZE     \n",
      "/housing-simplified.csv file 2.482KiB \n"
     ]
    }
   ],
   "source": [
    "!pachctl list file housing_data@master"
   ]
  },
  {
   "cell_type": "code",
   "execution_count": 28,
   "id": "e1cebd86-6ff1-44c9-b7a3-796ec2e110fb",
   "metadata": {},
   "outputs": [
    {
     "name": "stdout",
     "output_type": "stream",
     "text": [
      "ID                               SUBJOBS PROGRESS CREATED            MODIFIED\n",
      "f8fa49a2838c495eaa51c1675684f82c 1       \u001b[32m▇\u001b[0m\u001b[32m▇\u001b[0m\u001b[32m▇\u001b[0m\u001b[32m▇\u001b[0m\u001b[32m▇\u001b[0m\u001b[32m▇\u001b[0m\u001b[32m▇\u001b[0m\u001b[32m▇\u001b[0m About a minute ago About a minute ago \n",
      "aa9373420c4146d393164a2857c0385a 1       \u001b[32m▇\u001b[0m\u001b[32m▇\u001b[0m\u001b[32m▇\u001b[0m\u001b[32m▇\u001b[0m\u001b[32m▇\u001b[0m\u001b[32m▇\u001b[0m\u001b[32m▇\u001b[0m\u001b[32m▇\u001b[0m 3 minutes ago      3 minutes ago      \n",
      "e168bea3fdbf49d2849354c2dc833dd9 1       \u001b[32m▇\u001b[0m\u001b[32m▇\u001b[0m\u001b[32m▇\u001b[0m\u001b[32m▇\u001b[0m\u001b[32m▇\u001b[0m\u001b[32m▇\u001b[0m\u001b[32m▇\u001b[0m\u001b[32m▇\u001b[0m 6 hours ago        6 hours ago        \n",
      "e35d00004c5b4288b6580c5c0519cc80 1       \u001b[32m▇\u001b[0m\u001b[32m▇\u001b[0m\u001b[32m▇\u001b[0m\u001b[32m▇\u001b[0m\u001b[32m▇\u001b[0m\u001b[32m▇\u001b[0m\u001b[32m▇\u001b[0m\u001b[32m▇\u001b[0m 6 hours ago        6 hours ago        \n",
      "ebee0fc1176c4e01a8093559cb893a5c 3       \u001b[32m▇\u001b[0m\u001b[32m▇\u001b[0m\u001b[32m▇\u001b[0m\u001b[32m▇\u001b[0m\u001b[32m▇\u001b[0m\u001b[32m▇\u001b[0m\u001b[32m▇\u001b[0m\u001b[32m▇\u001b[0m 6 hours ago        6 hours ago        \n",
      "f3b7d09fb53f49acb727ce0010027b9f 3       \u001b[32m▇\u001b[0m\u001b[32m▇\u001b[0m\u001b[32m▇\u001b[0m\u001b[32m▇\u001b[0m\u001b[32m▇\u001b[0m\u001b[32m▇\u001b[0m\u001b[32m▇\u001b[0m\u001b[32m▇\u001b[0m 22 hours ago       22 hours ago       \n",
      "0a1ef75590de4b56ae92470d7e2281ab 1       \u001b[32m▇\u001b[0m\u001b[32m▇\u001b[0m\u001b[32m▇\u001b[0m\u001b[32m▇\u001b[0m\u001b[32m▇\u001b[0m\u001b[32m▇\u001b[0m\u001b[32m▇\u001b[0m\u001b[32m▇\u001b[0m 23 hours ago       23 hours ago       \n",
      "47d4cc3c190648a2a31ce435c8e2f3d7 1       \u001b[32m▇\u001b[0m\u001b[32m▇\u001b[0m\u001b[32m▇\u001b[0m\u001b[32m▇\u001b[0m\u001b[32m▇\u001b[0m\u001b[32m▇\u001b[0m\u001b[32m▇\u001b[0m\u001b[32m▇\u001b[0m 23 hours ago       23 hours ago       \n",
      "2d03390e3d14482c925c595a82f94ba7 1       \u001b[32m▇\u001b[0m\u001b[32m▇\u001b[0m\u001b[32m▇\u001b[0m\u001b[32m▇\u001b[0m\u001b[32m▇\u001b[0m\u001b[32m▇\u001b[0m\u001b[32m▇\u001b[0m\u001b[32m▇\u001b[0m 23 hours ago       23 hours ago       \n"
     ]
    }
   ],
   "source": [
    "!pachctl list job"
   ]
  },
  {
   "cell_type": "markdown",
   "id": "0d1ede5f-5827-4b12-af76-724cccdf96ae",
   "metadata": {},
   "source": [
    "## Step 4: Download files once the pipeline has finished"
   ]
  },
  {
   "cell_type": "code",
   "execution_count": 30,
   "id": "3e6abef2-25ed-446b-b137-eefc3b3aec78",
   "metadata": {},
   "outputs": [
    {
     "name": "stdout",
     "output_type": "stream",
     "text": [
      "NAME                                  TYPE SIZE     \n",
      "/housing-simplified_corr_matrix.png   file 18.66KiB \n",
      "/housing-simplified_cv_reg_output.png file 77.1KiB  \n",
      "/housing-simplified_model.sav         file 798.5KiB \n",
      "/housing-simplified_pairplot.png      file 100.8KiB \n"
     ]
    }
   ],
   "source": [
    "!pachctl list file regression@master"
   ]
  },
  {
   "cell_type": "code",
   "execution_count": 31,
   "id": "078c509b-6850-464a-93d5-1a2da5808b7e",
   "metadata": {},
   "outputs": [],
   "source": [
    "!pachctl get file regression@master:/ --recursive --output ."
   ]
  },
  {
   "cell_type": "markdown",
   "id": "35783dbc-7379-4e7e-9160-f73e39d95352",
   "metadata": {},
   "source": [
    "## Step 5: Update Dataset"
   ]
  },
  {
   "cell_type": "markdown",
   "id": "4553bb26-6dd0-4dda-8af7-5282912c0be3",
   "metadata": {},
   "source": [
    "Here's where Pachyderm truly starts to shine. To update our dataset we can run the following command (note that we could also append new examples to the existing file, but in this example we're simply overwriting our previous file to one with more data):"
   ]
  },
  {
   "cell_type": "code",
   "execution_count": 33,
   "id": "5ba5a9a8-57a9-45eb-972d-a97460399949",
   "metadata": {},
   "outputs": [
    {
     "name": "stdout",
     "output_type": "stream",
     "text": [
      "data/housing-simplified-2.csv 12.44 KB / 12.44 KB [================] 0s 0.00 b/s\n",
      "\u001b[1A\u001b[Jdata/housing-simplified-2.csv 12.44 KB / 12.44 KB [================] 0s 0.00 b/s\n",
      "\u001b[1A\u001b[Jdata/housing-simplified-2.csv 12.44 KB / 12.44 KB [================] 0s 0.00 b/s\n"
     ]
    }
   ],
   "source": [
    "!pachctl put file housing_data@master:housing-simplified.csv -f data/housing-simplified-2.csv"
   ]
  },
  {
   "cell_type": "code",
   "execution_count": 47,
   "id": "c5e6e7b0-468e-41f9-b382-faa1977720cf",
   "metadata": {},
   "outputs": [
    {
     "name": "stdout",
     "output_type": "stream",
     "text": [
      "REPO         BRANCH COMMIT                           FINISHED           SIZE     ORIGIN DESCRIPTION\n",
      "housing_data master 68e7175eac3f4654b141e05c3769807d About a minute ago 12.14KiB USER    \n",
      "housing_data master f8fa49a2838c495eaa51c1675684f82c 4 minutes ago      2.482KiB USER    \n",
      "housing_data master aa9373420c4146d393164a2857c0385a 7 minutes ago      0B       AUTO    \n"
     ]
    }
   ],
   "source": [
    "!pachctl list commit housing_data@master"
   ]
  },
  {
   "cell_type": "code",
   "execution_count": 45,
   "id": "f2e26071-5116-4f78-88de-1b6ae86a6786",
   "metadata": {},
   "outputs": [
    {
     "name": "stdout",
     "output_type": "stream",
     "text": [
      "NAME                    TYPE SIZE     \n",
      "/housing-simplified.csv file 12.14KiB \n"
     ]
    }
   ],
   "source": [
    "!pachctl list file housing_data@master"
   ]
  },
  {
   "cell_type": "code",
   "execution_count": 46,
   "id": "3664fd28-a24d-4dd8-b63e-1609ab93eec4",
   "metadata": {},
   "outputs": [
    {
     "name": "stdout",
     "output_type": "stream",
     "text": [
      "NAME                    TYPE SIZE     \n",
      "/housing-simplified.csv file 2.482KiB \n"
     ]
    }
   ],
   "source": [
    "!pachctl list file housing_data@master^1"
   ]
  },
  {
   "cell_type": "code",
   "execution_count": 49,
   "id": "2f4e566a-5b0d-4628-8625-cc85e1d2a0d2",
   "metadata": {},
   "outputs": [
    {
     "name": "stdout",
     "output_type": "stream",
     "text": [
      "REPO       BRANCH COMMIT                           FINISHED      SIZE     ORIGIN DESCRIPTION\n",
      "regression master 68e7175eac3f4654b141e05c3769807d 2 minutes ago 4.029MiB AUTO    \n",
      "regression master f8fa49a2838c495eaa51c1675684f82c 5 minutes ago 995.1KiB AUTO    \n",
      "regression master aa9373420c4146d393164a2857c0385a 7 minutes ago 0B       AUTO    \n"
     ]
    }
   ],
   "source": [
    "!pachctl list commit regression@master"
   ]
  },
  {
   "cell_type": "markdown",
   "id": "f1dc701c-8370-451f-beff-97d52d4a7e5a",
   "metadata": {},
   "source": [
    "## Test the model"
   ]
  },
  {
   "cell_type": "code",
   "execution_count": 110,
   "id": "0358bb3e-eb7e-4012-b5b3-6efcbf9dfe68",
   "metadata": {},
   "outputs": [
    {
     "name": "stderr",
     "output_type": "stream",
     "text": [
      "/home/ubuntu/.local/lib/python3.10/site-packages/sklearn/base.py:329: UserWarning: Trying to unpickle estimator DecisionTreeRegressor from version 0.22.1 when using version 1.1.1. This might lead to breaking code or invalid results. Use at your own risk. For more info please refer to:\n",
      "https://scikit-learn.org/stable/model_persistence.html#security-maintainability-limitations\n",
      "  warnings.warn(\n",
      "/home/ubuntu/.local/lib/python3.10/site-packages/sklearn/base.py:329: UserWarning: Trying to unpickle estimator RandomForestRegressor from version 0.22.1 when using version 1.1.1. This might lead to breaking code or invalid results. Use at your own risk. For more info please refer to:\n",
      "https://scikit-learn.org/stable/model_persistence.html#security-maintainability-limitations\n",
      "  warnings.warn(\n"
     ]
    },
    {
     "data": {
      "text/plain": [
       "array([542787.])"
      ]
     },
     "execution_count": 110,
     "metadata": {},
     "output_type": "execute_result"
    }
   ],
   "source": [
    "import joblib\n",
    "\n",
    "model = joblib.load('housing-simplified_model.sav')\n",
    "model.predict([[1,1,1]])"
   ]
  },
  {
   "cell_type": "markdown",
   "id": "cb68d9d1-9a87-4737-b85a-c4c13dfe5c38",
   "metadata": {},
   "source": [
    "## Deploy Seldon service"
   ]
  },
  {
   "cell_type": "markdown",
   "id": "54cbf0ac-778c-43b4-993e-a1274ae2cddb",
   "metadata": {},
   "source": [
    "More information on SKlearn server: https://docs.seldon.io/projects/seldon-core/en/latest/servers/sklearn.html"
   ]
  },
  {
   "cell_type": "code",
   "execution_count": 85,
   "id": "520ea15d-29b6-4b97-8905-471c4c8919b6",
   "metadata": {},
   "outputs": [
    {
     "name": "stdout",
     "output_type": "stream",
     "text": [
      "Overwriting secret.yaml\n"
     ]
    }
   ],
   "source": [
    "%%writefile secret.yaml\n",
    "    \n",
    "apiVersion: v1\n",
    "kind: Secret\n",
    "metadata:\n",
    "  name: seldon-init-container-secret\n",
    "type: Opaque\n",
    "stringData:\n",
    "  RCLONE_CONFIG_S3_TYPE: s3\n",
    "  RCLONE_CONFIG_S3_PROVIDER: minio\n",
    "  RCLONE_CONFIG_S3_ENV_AUTH: \"false\"\n",
    "  RCLONE_CONFIG_S3_ACCESS_KEY_ID: \"\"\n",
    "  RCLONE_CONFIG_S3_SECRET_ACCESS_KEY: \"\"\n",
    "  RCLONE_CONFIG_S3_ENDPOINT: http://pachd.pachyderm.svc.cluster.local:30600"
   ]
  },
  {
   "cell_type": "code",
   "execution_count": 86,
   "id": "b12030d4-0591-45f5-bbe6-60a86d7d2286",
   "metadata": {},
   "outputs": [
    {
     "name": "stdout",
     "output_type": "stream",
     "text": [
      "secret/seldon-init-container-secret configured\n"
     ]
    }
   ],
   "source": [
    "!kubectl -n seldon apply -f secret.yaml"
   ]
  },
  {
   "cell_type": "code",
   "execution_count": null,
   "id": "2b3a673e-e0d1-4d53-b7df-62d918ea9740",
   "metadata": {},
   "outputs": [],
   "source": [
    "seldon sklearn server requires model to be named model.joblib"
   ]
  },
  {
   "cell_type": "code",
   "execution_count": 72,
   "id": "bd901ecc-551f-4f45-a495-16e0a397c371",
   "metadata": {},
   "outputs": [
    {
     "name": "stdout",
     "output_type": "stream",
     "text": [
      "housing-simplified_model.sav 3.91 MB / 3.91 MB [===================] 0s 0.00 b/s\n",
      "\u001b[1A\u001b[Jhousing-simplified_model.sav 3.91 MB / 3.91 MB [===================] 0s 0.00 b/s\n",
      "\u001b[1A\u001b[Jhousing-simplified_model.sav 3.91 MB / 3.91 MB [===================] 0s 0.00 b/s\n",
      "\u001b[1A\u001b[Jhousing-simplified_model.sav 3.91 MB / 3.91 MB [===================] 0s 0.00 b/s\n",
      "cannot start a commit on an output branch: regression@master\n"
     ]
    }
   ],
   "source": [
    "!pachctl create repo seldon_models\n",
    "!pachctl put file seldon_models@master:model.joblib -f housing-simplified_model.sav"
   ]
  },
  {
   "cell_type": "code",
   "execution_count": 117,
   "id": "d1af494a-a176-475b-9166-57eb72d0ba7c",
   "metadata": {},
   "outputs": [
    {
     "name": "stdout",
     "output_type": "stream",
     "text": [
      "NAME          TYPE SIZE     \n",
      "/model.joblib file 798.5KiB \n"
     ]
    }
   ],
   "source": [
    "!pachctl list file seldon_models@master"
   ]
  },
  {
   "cell_type": "markdown",
   "id": "01b1f1bd-1718-4cf2-9807-9f27fcb72572",
   "metadata": {},
   "source": [
    "## More details on SKlearn server: https://docs.seldon.io/projects/seldon-core/en/latest/servers/sklearn.html"
   ]
  },
  {
   "cell_type": "markdown",
   "id": "148cbf28-a303-43b0-b938-419af158c367",
   "metadata": {},
   "source": [
    "If you want to build your own Docker image don't forget to forward your minikube docker env!\n",
    "https://stackoverflow.com/questions/42564058/how-to-use-local-docker-images-with-minikube"
   ]
  },
  {
   "cell_type": "code",
   "execution_count": 185,
   "id": "5ba26e01-b519-4561-9537-efa250f5ff7f",
   "metadata": {},
   "outputs": [
    {
     "name": "stdout",
     "output_type": "stream",
     "text": [
      "Overwriting deploy.yaml\n"
     ]
    }
   ],
   "source": [
    "%%writefile deploy.yaml\n",
    "\n",
    "apiVersion: machinelearning.seldon.io/v1\n",
    "kind: SeldonDeployment\n",
    "metadata:\n",
    "  name: housing-regressor\n",
    "spec:\n",
    "  predictors:\n",
    "  - name: default\n",
    "    replicas: 1\n",
    "    graph:\n",
    "      name: regressor\n",
    "      implementation: SKLEARN_SERVER\n",
    "      modelUri: s3://master.seldon_models\n",
    "      storageInitializerImage: seldonio/rclone-storage-initializer:1.14.0-dev\n",
    "      envSecretRefName: seldon-init-container-secret\n",
    "      parameters:\n",
    "        - name: method\n",
    "          type: STRING\n",
    "          value: predict"
   ]
  },
  {
   "cell_type": "code",
   "execution_count": 195,
   "id": "bfb36469-8377-4cff-917b-a623136fde09",
   "metadata": {},
   "outputs": [
    {
     "name": "stdout",
     "output_type": "stream",
     "text": [
      "seldondeployment.machinelearning.seldon.io/housing-regressor created\n"
     ]
    }
   ],
   "source": [
    "!kubectl -n seldon apply -f deploy.yaml"
   ]
  },
  {
   "cell_type": "code",
   "execution_count": 217,
   "id": "7a676ab3-37c0-47e9-8c1f-95414b95b08b",
   "metadata": {},
   "outputs": [
    {
     "name": "stdout",
     "output_type": "stream",
     "text": [
      "NAME                                                     READY   STATUS    RESTARTS   AGE\n",
      "housing-regressor-default-0-regressor-64c95db89f-tdbmq   2/2     Running   0          26s\n"
     ]
    }
   ],
   "source": [
    "!kubectl -n seldon get po"
   ]
  },
  {
   "cell_type": "code",
   "execution_count": 181,
   "id": "7d9e3e39-f510-45a7-be9e-54fa2c6e3c73",
   "metadata": {},
   "outputs": [
    {
     "name": "stdout",
     "output_type": "stream",
     "text": [
      "Defaulted container \"regressor\" out of: regressor, seldon-container-engine, regressor-model-initializer (init)\n",
      "starting microservice\n",
      "2022-06-15 10:09:08,444 - seldon_core.microservice:main:203 - INFO:  Starting microservice.py:main\n",
      "2022-06-15 10:09:08,444 - seldon_core.microservice:main:204 - INFO:  Seldon Core version: 1.9.0\n",
      "2022-06-15 10:09:08,446 - seldon_core.microservice:main:345 - INFO:  Parse JAEGER_EXTRA_TAGS []\n",
      "2022-06-15 10:09:08,446 - seldon_core.microservice:load_annotations:155 - INFO:  Found annotation kubernetes.io/config.seen:2022-06-15T10:09:05.225418137Z \n",
      "2022-06-15 10:09:08,446 - seldon_core.microservice:load_annotations:155 - INFO:  Found annotation kubernetes.io/config.source:api \n",
      "2022-06-15 10:09:08,446 - seldon_core.microservice:load_annotations:155 - INFO:  Found annotation prometheus.io/path:/prometheus \n",
      "2022-06-15 10:09:08,446 - seldon_core.microservice:load_annotations:155 - INFO:  Found annotation prometheus.io/scrape:true \n",
      "2022-06-15 10:09:08,446 - seldon_core.microservice:main:348 - INFO:  Annotations: {'kubernetes.io/config.seen': '2022-06-15T10:09:05.225418137Z', 'kubernetes.io/config.source': 'api', 'prometheus.io/path': '/prometheus', 'prometheus.io/scrape': 'true'}\n",
      "2022-06-15 10:09:08,446 - seldon_core.microservice:main:352 - INFO:  Importing SKLearnServer\n",
      "2022-06-15 10:09:08,469 - SKLearnServer:__init__:21 - INFO:  Model uri: /mnt/models\n",
      "2022-06-15 10:09:08,469 - SKLearnServer:__init__:22 - INFO:  method: predict\n",
      "2022-06-15 10:09:08,469 - SKLearnServer:load:26 - INFO:  load\n",
      "2022-06-15 10:09:08,469 - root:download:31 - INFO:  Copying contents of /mnt/models to local\n",
      "2022-06-15 10:09:08,469 - SKLearnServer:load:30 - INFO:  model file: /mnt/models/model.joblib\n",
      "/opt/conda/lib/python3.7/site-packages/sklearn/base.py:334: UserWarning: Trying to unpickle estimator DecisionTreeRegressor from version 0.22.1 when using version 0.23.2. This might lead to breaking code or invalid results. Use at your own risk.\n",
      "  UserWarning)\n",
      "/opt/conda/lib/python3.7/site-packages/sklearn/base.py:334: UserWarning: Trying to unpickle estimator RandomForestRegressor from version 0.22.1 when using version 0.23.2. This might lead to breaking code or invalid results. Use at your own risk.\n",
      "  UserWarning)\n",
      "2022-06-15 10:09:08,921 - seldon_core.microservice:main:431 - INFO:  REST gunicorn microservice running on port 9000\n",
      "2022-06-15 10:09:08,922 - seldon_core.microservice:main:486 - INFO:  REST metrics microservice running on port 6000\n",
      "2022-06-15 10:09:08,922 - seldon_core.microservice:main:496 - INFO:  Starting servers\n",
      "2022-06-15 10:09:08,936 - seldon_core.wrapper:_set_flask_app_configs:213 - INFO:  App Config:  <Config {'ENV': 'production', 'DEBUG': False, 'TESTING': False, 'PROPAGATE_EXCEPTIONS': None, 'PRESERVE_CONTEXT_ON_EXCEPTION': None, 'SECRET_KEY': None, 'PERMANENT_SESSION_LIFETIME': datetime.timedelta(days=31), 'USE_X_SENDFILE': False, 'SERVER_NAME': None, 'APPLICATION_ROOT': '/', 'SESSION_COOKIE_NAME': 'session', 'SESSION_COOKIE_DOMAIN': None, 'SESSION_COOKIE_PATH': None, 'SESSION_COOKIE_HTTPONLY': True, 'SESSION_COOKIE_SECURE': False, 'SESSION_COOKIE_SAMESITE': None, 'SESSION_REFRESH_EACH_REQUEST': True, 'MAX_CONTENT_LENGTH': None, 'SEND_FILE_MAX_AGE_DEFAULT': datetime.timedelta(seconds=43200), 'TRAP_BAD_REQUEST_ERRORS': None, 'TRAP_HTTP_EXCEPTIONS': False, 'EXPLAIN_TEMPLATE_LOADING': False, 'PREFERRED_URL_SCHEME': 'http', 'JSON_AS_ASCII': True, 'JSON_SORT_KEYS': True, 'JSONIFY_PRETTYPRINT_REGULAR': False, 'JSONIFY_MIMETYPE': 'application/json', 'TEMPLATES_AUTO_RELOAD': None, 'MAX_COOKIE_SIZE': 4093}>\n",
      "2022-06-15 10:09:08,947 - seldon_core.wrapper:_set_flask_app_configs:213 - INFO:  App Config:  <Config {'ENV': 'production', 'DEBUG': False, 'TESTING': False, 'PROPAGATE_EXCEPTIONS': None, 'PRESERVE_CONTEXT_ON_EXCEPTION': None, 'SECRET_KEY': None, 'PERMANENT_SESSION_LIFETIME': datetime.timedelta(days=31), 'USE_X_SENDFILE': False, 'SERVER_NAME': None, 'APPLICATION_ROOT': '/', 'SESSION_COOKIE_NAME': 'session', 'SESSION_COOKIE_DOMAIN': None, 'SESSION_COOKIE_PATH': None, 'SESSION_COOKIE_HTTPONLY': True, 'SESSION_COOKIE_SECURE': False, 'SESSION_COOKIE_SAMESITE': None, 'SESSION_REFRESH_EACH_REQUEST': True, 'MAX_CONTENT_LENGTH': None, 'SEND_FILE_MAX_AGE_DEFAULT': datetime.timedelta(seconds=43200), 'TRAP_BAD_REQUEST_ERRORS': None, 'TRAP_HTTP_EXCEPTIONS': False, 'EXPLAIN_TEMPLATE_LOADING': False, 'PREFERRED_URL_SCHEME': 'http', 'JSON_AS_ASCII': True, 'JSON_SORT_KEYS': True, 'JSONIFY_PRETTYPRINT_REGULAR': False, 'JSONIFY_MIMETYPE': 'application/json', 'TEMPLATES_AUTO_RELOAD': None, 'MAX_COOKIE_SIZE': 4093}>\n",
      "2022-06-15 10:09:08,955 - SKLearnServer:load:26 - INFO:  load\n",
      "2022-06-15 10:09:08,956 - root:download:31 - INFO:  Copying contents of /mnt/models to local\n",
      "2022-06-15 10:09:08,956 - SKLearnServer:load:30 - INFO:  model file: /mnt/models/model.joblib\n",
      "[2022-06-15 10:09:08 +0000] [43] [INFO] Starting gunicorn 20.1.0\n",
      "[2022-06-15 10:09:08 +0000] [7] [INFO] Starting gunicorn 20.1.0\n",
      "[2022-06-15 10:09:08 +0000] [43] [INFO] Listening at: http://0.0.0.0:6000 (43)\n",
      "[2022-06-15 10:09:08 +0000] [43] [INFO] Using worker: sync\n",
      "[2022-06-15 10:09:08 +0000] [7] [INFO] Listening at: http://0.0.0.0:9000 (7)\n",
      "[2022-06-15 10:09:08 +0000] [7] [INFO] Using worker: gthread\n",
      "[2022-06-15 10:09:08 +0000] [51] [INFO] Booting worker with pid: 51\n",
      "[2022-06-15 10:09:08 +0000] [50] [INFO] Booting worker with pid: 50\n",
      "2022-06-15 10:09:08,980 - seldon_core.gunicorn_utils:load:103 - INFO:  Tracing not active\n",
      "2022-06-15 10:09:08,980 - SKLearnServer:load:26 - INFO:  load\n",
      "2022-06-15 10:09:08,980 - root:download:31 - INFO:  Copying contents of /mnt/models to local\n",
      "2022-06-15 10:09:08,980 - SKLearnServer:load:30 - INFO:  model file: /mnt/models/model.joblib\n",
      "2022-06-15 10:09:09,017 - seldon_core.microservice:grpc_prediction_server:461 - INFO:  GRPC microservice Running on port 9500\n"
     ]
    }
   ],
   "source": [
    "!kubectl logs housing-regressor-default-0-regressor-64c95db89f-mq4s4 -n seldon"
   ]
  },
  {
   "cell_type": "markdown",
   "id": "3a77cfa0-140c-4de2-b5f0-384e0d6e9437",
   "metadata": {},
   "source": [
    "## Don't forget to forward http and grpc services!"
   ]
  },
  {
   "cell_type": "code",
   "execution_count": 221,
   "id": "f8ea66e7-4e43-4605-9e76-5d9cb7c0a331",
   "metadata": {},
   "outputs": [
    {
     "name": "stdout",
     "output_type": "stream",
     "text": [
      "Name:         housing-regressor\n",
      "Namespace:    seldon\n",
      "Labels:       <none>\n",
      "Annotations:  <none>\n",
      "API Version:  machinelearning.seldon.io/v1\n",
      "Kind:         SeldonDeployment\n",
      "Metadata:\n",
      "  Creation Timestamp:  2022-06-15T10:14:07Z\n",
      "  Generation:          1\n",
      "  Managed Fields:\n",
      "    API Version:  machinelearning.seldon.io/v1\n",
      "    Fields Type:  FieldsV1\n",
      "    fieldsV1:\n",
      "      f:metadata:\n",
      "        f:annotations:\n",
      "          .:\n",
      "          f:kubectl.kubernetes.io/last-applied-configuration:\n",
      "      f:spec:\n",
      "    Manager:      kubectl-client-side-apply\n",
      "    Operation:    Update\n",
      "    Time:         2022-06-15T10:14:07Z\n",
      "    API Version:  machinelearning.seldon.io/v1\n",
      "    Fields Type:  FieldsV1\n",
      "    fieldsV1:\n",
      "      f:spec:\n",
      "        f:predictors:\n",
      "      f:status:\n",
      "        .:\n",
      "        f:address:\n",
      "          .:\n",
      "          f:url:\n",
      "        f:deploymentStatus:\n",
      "          .:\n",
      "          f:housing-regressor-default-0-regressor:\n",
      "            .:\n",
      "            f:availableReplicas:\n",
      "            f:replicas:\n",
      "        f:replicas:\n",
      "        f:serviceStatus:\n",
      "          .:\n",
      "          f:housing-regressor-default:\n",
      "            .:\n",
      "            f:grpcEndpoint:\n",
      "            f:httpEndpoint:\n",
      "            f:svcName:\n",
      "          f:housing-regressor-default-regressor:\n",
      "            .:\n",
      "            f:grpcEndpoint:\n",
      "            f:httpEndpoint:\n",
      "            f:svcName:\n",
      "        f:state:\n",
      "    Manager:         manager\n",
      "    Operation:       Update\n",
      "    Time:            2022-06-15T10:14:32Z\n",
      "  Resource Version:  3902011\n",
      "  UID:               bf0e3d15-ce89-4503-b7f6-fbbe672c1024\n",
      "Spec:\n",
      "  Predictors:\n",
      "    Graph:\n",
      "      Env Secret Ref Name:  seldon-init-container-secret\n",
      "      Implementation:       SKLEARN_SERVER\n",
      "      Model Uri:            s3://master.seldon_models\n",
      "      Name:                 regressor\n",
      "      Parameters:\n",
      "        Name:                     method\n",
      "        Type:                     STRING\n",
      "        Value:                    predict\n",
      "      Storage Initializer Image:  seldonio/rclone-storage-initializer:1.14.0-dev\n",
      "    Name:                         default\n",
      "    Replicas:                     1\n",
      "Status:\n",
      "  Address:\n",
      "    URL:  http://housing-regressor-default.seldon.svc.cluster.local:8000/api/v1.0/predictions\n",
      "  Deployment Status:\n",
      "    housing-regressor-default-0-regressor:\n",
      "      Available Replicas:  1\n",
      "      Replicas:            1\n",
      "  Replicas:                1\n",
      "  Service Status:\n",
      "    Housing - Regressor - Default:\n",
      "      Grpc Endpoint:  housing-regressor-default.seldon:5001\n",
      "      Http Endpoint:  housing-regressor-default.seldon:8000\n",
      "      Svc Name:       housing-regressor-default\n",
      "    Housing - Regressor - Default - Regressor:\n",
      "      Grpc Endpoint:  housing-regressor-default-regressor.seldon:9500\n",
      "      Http Endpoint:  housing-regressor-default-regressor.seldon:9000\n",
      "      Svc Name:       housing-regressor-default-regressor\n",
      "  State:              Available\n",
      "Events:\n",
      "  Type     Reason                 Age                 From                       Message\n",
      "  ----     ------                 ----                ----                       -------\n",
      "  Normal   CreateService          113s                seldon-controller-manager  Created Service \"housing-regressor-default-regressor\"\n",
      "  Normal   CreateDeployment       113s                seldon-controller-manager  Created Deployment \"housing-regressor-default-0-regressor\"\n",
      "  Warning  UpdateFailed           112s                seldon-controller-manager  Failed to update status for SeldonDeployment \"housing-regressor\": Operation cannot be fulfilled on seldondeployments.machinelearning.seldon.io \"housing-regressor\": the object has been modified; please apply your changes to the latest version and try again\n",
      "  Normal   Updated                88s (x7 over 113s)  seldon-controller-manager  Updated SeldonDeployment \"housing-regressor\"\n",
      "  Normal   CreateService          88s                 seldon-controller-manager  Created Service \"housing-regressor-default\"\n",
      "  Normal   CreateVirtualService   88s                 seldon-controller-manager  Created VirtualService \"housing-regressor-http\"\n",
      "  Normal   CreateVirtualService   88s                 seldon-controller-manager  Created VirtualService \"housing-regressor-grpc\"\n",
      "  Normal   CreateDestinationRule  88s                 seldon-controller-manager  Created DestinationRule \"housing-regressor-default\"\n"
     ]
    }
   ],
   "source": [
    "!kubectl describe sdep housing-regressor -n seldon"
   ]
  },
  {
   "cell_type": "code",
   "execution_count": 222,
   "id": "431d0b80-fa31-4d4a-ace3-535105c4ddde",
   "metadata": {},
   "outputs": [
    {
     "name": "stdout",
     "output_type": "stream",
     "text": [
      "NAME                                  TYPE        CLUSTER-IP       EXTERNAL-IP   PORT(S)             AGE\n",
      "housing-regressor-default             ClusterIP   10.101.139.187   <none>        8000/TCP,5001/TCP   97s\n",
      "housing-regressor-default-regressor   ClusterIP   10.105.72.26     <none>        9000/TCP,9500/TCP   2m2s\n"
     ]
    }
   ],
   "source": [
    "!kubectl get svc -n seldon"
   ]
  },
  {
   "cell_type": "code",
   "execution_count": null,
   "id": "f83fe8f6-b344-4f90-9f58-585b71fb817e",
   "metadata": {},
   "outputs": [],
   "source": [
    "# In terminal: kubectl port-forward svc/housing-regressor-default-regressor 7000:9000 7500:9500 -n seldon"
   ]
  },
  {
   "cell_type": "code",
   "execution_count": 152,
   "id": "2fc20f5c-5a5c-4ca4-9b2f-21d7c5059393",
   "metadata": {},
   "outputs": [
    {
     "name": "stdout",
     "output_type": "stream",
     "text": [
      "RM,LSTAT,PTRATIO,MEDV\n",
      "6.575,4.98,15.3,504000.0\n"
     ]
    }
   ],
   "source": [
    "!head data/housing-simplified-1.csv -n 2"
   ]
  },
  {
   "cell_type": "markdown",
   "id": "ed7a820e-2038-4bdb-99c7-fdff371a4718",
   "metadata": {},
   "source": [
    "### REST"
   ]
  },
  {
   "cell_type": "code",
   "execution_count": 8,
   "id": "cb4696b2-8b23-45ae-ba1e-7c45f23cab99",
   "metadata": {},
   "outputs": [
    {
     "name": "stdout",
     "output_type": "stream",
     "text": [
      "{\"data\":{\"names\":[],\"ndarray\":[522921.0]},\"meta\":{\"requestPath\":{\"regressor\":\"seldonio/sklearnserver:1.9.0\"}}}\n"
     ]
    }
   ],
   "source": [
    "%%bash\n",
    "curl -s -X POST -H 'Content-Type: application/json' \\\n",
    "    -d '{\"data\":{\"ndarray\":[[6.575, 4.98, 15.3]]}}' \\\n",
    "    http://localhost:7000/api/v1.0/predictions"
   ]
  },
  {
   "cell_type": "markdown",
   "id": "40a430ee-5808-4cd9-ac51-f1a9d8ba332f",
   "metadata": {},
   "source": [
    "### GRPC"
   ]
  },
  {
   "cell_type": "code",
   "execution_count": 10,
   "id": "659471f5-6e2c-4282-9eb0-5355f99c778d",
   "metadata": {},
   "outputs": [
    {
     "data": {
      "text/plain": [
       "meta {\n",
       "  requestPath {\n",
       "    key: \"regressor\"\n",
       "    value: \"seldonio/sklearnserver:1.9.0\"\n",
       "  }\n",
       "}\n",
       "data {\n",
       "  ndarray {\n",
       "    values {\n",
       "      number_value: 522921.0\n",
       "    }\n",
       "  }\n",
       "}"
      ]
     },
     "execution_count": 10,
     "metadata": {},
     "output_type": "execute_result"
    }
   ],
   "source": [
    "import grpc\n",
    "from google.protobuf import struct_pb2\n",
    "from seldon_core.proto import prediction_pb2, prediction_pb2_grpc\n",
    "\n",
    "channel = grpc.insecure_channel(f\"localhost:7500\")\n",
    "stub = prediction_pb2_grpc.ModelStub(channel)\n",
    "\n",
    "batch = struct_pb2.ListValue()\n",
    "batch.append([6.575, 4.98, 15.3])\n",
    "data = prediction_pb2.DefaultData(ndarray=batch)\n",
    "seldon_request = prediction_pb2.SeldonMessage(data=data)\n",
    "response = stub.Predict(seldon_request)\n",
    "response"
   ]
  },
  {
   "cell_type": "code",
   "execution_count": null,
   "id": "86382580-e725-47c9-acff-e1d2787e5c18",
   "metadata": {},
   "outputs": [],
   "source": []
  }
 ],
 "metadata": {
  "kernelspec": {
   "display_name": "Python 3 (ipykernel)",
   "language": "python",
   "name": "python3"
  },
  "language_info": {
   "codemirror_mode": {
    "name": "ipython",
    "version": 3
   },
   "file_extension": ".py",
   "mimetype": "text/x-python",
   "name": "python",
   "nbconvert_exporter": "python",
   "pygments_lexer": "ipython3",
   "version": "3.10.4"
  }
 },
 "nbformat": 4,
 "nbformat_minor": 5
}
