{
 "cells": [
  {
   "cell_type": "code",
   "execution_count": 9,
   "id": "09262c45-3640-4a27-b90c-11eeffa0519a",
   "metadata": {},
   "outputs": [
    {
     "name": "stdout",
     "output_type": "stream",
     "text": [
      "/home/ubuntu/mlops_workshops/seldon/manifests\n"
     ]
    }
   ],
   "source": [
    "cd manifests"
   ]
  },
  {
   "cell_type": "markdown",
   "id": "c4272595-e979-4fef-b42d-f6556faf1006",
   "metadata": {},
   "source": [
    "### Let's deploy a Housing Preprocessor that gets the data from the feature store and standardize it"
   ]
  },
  {
   "cell_type": "code",
   "execution_count": null,
   "id": "8840d211-bfbe-4470-9d9d-165ef93c13b8",
   "metadata": {},
   "outputs": [],
   "source": [
    "!kubectl apply -f seldondeployment1.yaml"
   ]
  },
  {
   "cell_type": "code",
   "execution_count": null,
   "id": "e4d04827-e485-46b3-b52a-00f67a3c9385",
   "metadata": {},
   "outputs": [],
   "source": [
    "# in terminal: kubectl port-forward svc/seldon-preprocessor-model-model 9100:9000"
   ]
  },
  {
   "cell_type": "code",
   "execution_count": 31,
   "id": "9f16c5ae-3fda-4121-9447-30c4dc1fe861",
   "metadata": {},
   "outputs": [
    {
     "data": {
      "text/plain": [
       "{'data': {'names': ['house_main_view:HouseId',\n",
       "   'house_main_view:MedInc',\n",
       "   'house_main_view:HouseAge',\n",
       "   'house_main_view:AveRooms',\n",
       "   'house_main_view:AveBedrms',\n",
       "   'house_main_view:Population',\n",
       "   'house_main_view:AveOccup',\n",
       "   'house_lat_lon_view:Latitude',\n",
       "   'house_lat_lon_view:Longitude'],\n",
       "  'ndarray': [[-1.7319668924113674,\n",
       "    -0.7324396877792114,\n",
       "    -0.3686446776412593,\n",
       "    -0.7979812453599388,\n",
       "    0.07906991444149086,\n",
       "    0.7289808981819601,\n",
       "    0.08193376858427932,\n",
       "    -0.6797418814172994,\n",
       "    0.5938194097272528],\n",
       "   [-1.7312955548882658,\n",
       "    -1.3334053246300217,\n",
       "    -0.8453931491070594,\n",
       "    -0.34815492500568834,\n",
       "    -0.019726266386578314,\n",
       "    1.1316531272558914,\n",
       "    -0.018082498363888314,\n",
       "    1.6377819950507821,\n",
       "    -0.9834354838678211]]},\n",
       " 'meta': {'requestPath': {'model': 'dvoitekh/seldon_feast:workshop8'}}}"
      ]
     },
     "execution_count": 31,
     "metadata": {},
     "output_type": "execute_result"
    }
   ],
   "source": [
    "import requests\n",
    "response = requests.post('http://localhost:9100/api/v1.0/predictions', json={\"data\":{\"ndarray\":[[1], [5]]}}).json()\n",
    "response"
   ]
  },
  {
   "cell_type": "code",
   "execution_count": 32,
   "id": "4a014083-81a2-475b-a12d-2c631b9f8d87",
   "metadata": {},
   "outputs": [
    {
     "data": {
      "text/plain": [
       "[[-1.7319668924113674,\n",
       "  -0.7324396877792114,\n",
       "  -0.3686446776412593,\n",
       "  -0.7979812453599388,\n",
       "  0.07906991444149086,\n",
       "  0.7289808981819601,\n",
       "  0.08193376858427932,\n",
       "  -0.6797418814172994,\n",
       "  0.5938194097272528],\n",
       " [-1.7312955548882658,\n",
       "  -1.3334053246300217,\n",
       "  -0.8453931491070594,\n",
       "  -0.34815492500568834,\n",
       "  -0.019726266386578314,\n",
       "  1.1316531272558914,\n",
       "  -0.018082498363888314,\n",
       "  1.6377819950507821,\n",
       "  -0.9834354838678211]]"
      ]
     },
     "execution_count": 32,
     "metadata": {},
     "output_type": "execute_result"
    }
   ],
   "source": [
    "response['data']['ndarray']"
   ]
  },
  {
   "cell_type": "code",
   "execution_count": 33,
   "id": "fe4cd568-1ae7-4180-986f-f6c7f7b4812c",
   "metadata": {},
   "outputs": [
    {
     "name": "stdout",
     "output_type": "stream",
     "text": [
      "seldondeployment.machinelearning.seldon.io \"seldon-preprocessor\" deleted\n"
     ]
    }
   ],
   "source": [
    "!kubectl delete -f seldondeployment1.yaml"
   ]
  },
  {
   "cell_type": "markdown",
   "id": "c039c2bc-1f34-49a1-8121-9bf6de326424",
   "metadata": {},
   "source": [
    "### Let's deploy a model that consumes this data"
   ]
  },
  {
   "cell_type": "code",
   "execution_count": 10,
   "id": "5d7baeaf-34f2-4553-afd3-8dce471a3c77",
   "metadata": {},
   "outputs": [
    {
     "name": "stdout",
     "output_type": "stream",
     "text": [
      "seldondeployment.machinelearning.seldon.io/seldon-regressor created\n"
     ]
    }
   ],
   "source": [
    "!kubectl apply -f seldondeployment2.yaml"
   ]
  },
  {
   "cell_type": "code",
   "execution_count": null,
   "id": "6e3a5fbe-6ff8-413d-a7b6-cb5222e20c23",
   "metadata": {},
   "outputs": [],
   "source": [
    "# in terminal: kubectl port-forward svc/seldon-regressor-model-model 9200:9000"
   ]
  },
  {
   "cell_type": "code",
   "execution_count": 36,
   "id": "626aa50d-e899-46e5-8268-6e4216475e10",
   "metadata": {},
   "outputs": [
    {
     "data": {
      "text/plain": [
       "{'data': {'names': [], 'ndarray': [2.0, 0.596]},\n",
       " 'meta': {'requestPath': {'model': 'dvoitekh/seldon_feast:workshop9'}}}"
      ]
     },
     "execution_count": 37,
     "metadata": {},
     "output_type": "execute_result"
    }
   ],
   "source": [
    "response = requests.post('http://localhost:9200/api/v1.0/predictions', json={\"data\":{\"ndarray\":response['data']['ndarray']}}).json()\n",
    "response"
   ]
  },
  {
   "cell_type": "code",
   "execution_count": null,
   "id": "8c7cda45-c7c5-46a7-b9c8-aaf21592dcde",
   "metadata": {},
   "outputs": [],
   "source": [
    "!kubectl delete -f seldondeployment2.yaml"
   ]
  },
  {
   "cell_type": "markdown",
   "id": "86d7484c-be24-47ea-8b89-a8030dedc4b0",
   "metadata": {},
   "source": [
    "### Let's deploy them together!"
   ]
  },
  {
   "cell_type": "code",
   "execution_count": null,
   "id": "2ececed0-866d-464e-92cb-4aa91d1132e9",
   "metadata": {},
   "outputs": [],
   "source": [
    "!kubectl apply -f seldondeployment3.yaml"
   ]
  },
  {
   "cell_type": "code",
   "execution_count": null,
   "id": "9f828d1e-7571-4fd7-8189-d1f5a994a330",
   "metadata": {},
   "outputs": [],
   "source": [
    "!kubectl get po"
   ]
  },
  {
   "cell_type": "code",
   "execution_count": null,
   "id": "32e09153-40aa-410e-86ab-471b6f8b52f3",
   "metadata": {},
   "outputs": [],
   "source": [
    "!kubectl get svc"
   ]
  },
  {
   "cell_type": "code",
   "execution_count": null,
   "id": "8bf6d4d4-c61e-43c1-9206-330193ea598e",
   "metadata": {},
   "outputs": [],
   "source": [
    "# in terminal: kubectl port-forward svc/seldon-pipeline-model 8100:8000"
   ]
  },
  {
   "cell_type": "code",
   "execution_count": 38,
   "id": "3631915d-c6df-4116-b966-13eff51757c9",
   "metadata": {},
   "outputs": [
    {
     "data": {
      "text/plain": [
       "{'data': {'names': [], 'ndarray': [2.017, 0.596]},\n",
       " 'meta': {'requestPath': {'preprocessor': 'dvoitekh/seldon_feast:workshop9',\n",
       "   'regressor': 'dvoitekh/seldon_feast:workshop9'}}}"
      ]
     },
     "execution_count": 38,
     "metadata": {},
     "output_type": "execute_result"
    }
   ],
   "source": [
    "response = requests.post('http://localhost:8100/api/v1.0/predictions', json={\"data\":{\"ndarray\":[[2], [5]]}}).json()\n",
    "response"
   ]
  },
  {
   "cell_type": "code",
   "execution_count": null,
   "id": "52d26d7f-76c3-482e-80db-1422ef1f13d6",
   "metadata": {},
   "outputs": [],
   "source": []
  }
 ],
 "metadata": {
  "kernelspec": {
   "display_name": "Python 3 (ipykernel)",
   "language": "python",
   "name": "python3"
  },
  "language_info": {
   "codemirror_mode": {
    "name": "ipython",
    "version": 3
   },
   "file_extension": ".py",
   "mimetype": "text/x-python",
   "name": "python",
   "nbconvert_exporter": "python",
   "pygments_lexer": "ipython3",
   "version": "3.10.4"
  }
 },
 "nbformat": 4,
 "nbformat_minor": 5
}
