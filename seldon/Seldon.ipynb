{
 "cells": [
  {
   "cell_type": "code",
   "execution_count": 9,
   "id": "09262c45-3640-4a27-b90c-11eeffa0519a",
   "metadata": {},
   "outputs": [
    {
     "name": "stdout",
     "output_type": "stream",
     "text": [
      "/home/ubuntu/mlops_workshops/seldon/manifests\n"
     ]
    }
   ],
   "source": [
    "cd manifests"
   ]
  },
  {
   "cell_type": "markdown",
   "id": "1e0bbcf6-a223-49eb-a9fc-13c1397b0939",
   "metadata": {},
   "source": [
    "python component details:\n",
    "https://docs.seldon.io/projects/seldon-core/en/latest/python/python_component.html\n",
    "\n",
    "model,combiner,router:\n",
    "https://docs.seldon.io/projects/seldon-core/en/latest/examples/graph-metadata.html#Two-Level-Graph"
   ]
  },
  {
   "cell_type": "markdown",
   "id": "c4272595-e979-4fef-b42d-f6556faf1006",
   "metadata": {},
   "source": [
    "### Let's deploy a Housing Preprocessor that gets the data from the feature store and standardize it"
   ]
  },
  {
   "cell_type": "code",
   "execution_count": null,
   "id": "8840d211-bfbe-4470-9d9d-165ef93c13b8",
   "metadata": {},
   "outputs": [],
   "source": [
    "!kubectl apply -f seldondeployment1.yaml"
   ]
  },
  {
   "cell_type": "code",
   "execution_count": null,
   "id": "e4d04827-e485-46b3-b52a-00f67a3c9385",
   "metadata": {},
   "outputs": [],
   "source": [
    "# in terminal: kubectl port-forward svc/seldon-preprocessor-model-model 9100:9000"
   ]
  },
  {
   "cell_type": "code",
   "execution_count": 138,
   "id": "9f16c5ae-3fda-4121-9447-30c4dc1fe861",
   "metadata": {},
   "outputs": [
    {
     "data": {
      "text/plain": [
       "{'data': {'names': ['house_main_view:HouseId',\n",
       "   'house_main_view:MedInc',\n",
       "   'house_main_view:HouseAge',\n",
       "   'house_main_view:AveRooms',\n",
       "   'house_main_view:AveBedrms',\n",
       "   'house_main_view:Population',\n",
       "   'house_main_view:AveOccup',\n",
       "   'house_lat_lon_view:Latitude',\n",
       "   'house_lat_lon_view:Longitude'],\n",
       "  'ndarray': [[-1.7319668924113674,\n",
       "    -0.7324396877792114,\n",
       "    -0.3686446776412593,\n",
       "    -0.7979812453599388,\n",
       "    0.07906991444149086,\n",
       "    0.7289808981819601,\n",
       "    0.08193376858427932,\n",
       "    -0.6797418814172994,\n",
       "    0.5938194097272528],\n",
       "   [-1.7312955548882658,\n",
       "    -1.3334053246300217,\n",
       "    -0.8453931491070594,\n",
       "    -0.34815492500568834,\n",
       "    -0.019726266386578314,\n",
       "    1.1316531272558914,\n",
       "    -0.018082498363888314,\n",
       "    1.6377819950507821,\n",
       "    -0.9834354838678211]]},\n",
       " 'meta': {'requestPath': {'model': 'dvoitekh/seldon_feast:workshop13'}}}"
      ]
     },
     "execution_count": 138,
     "metadata": {},
     "output_type": "execute_result"
    }
   ],
   "source": [
    "import requests\n",
    "response = requests.post('http://localhost:9100/api/v1.0/predictions', json={\"data\":{\"ndarray\":[[1], [5]]}}).json()\n",
    "response"
   ]
  },
  {
   "cell_type": "code",
   "execution_count": 32,
   "id": "4a014083-81a2-475b-a12d-2c631b9f8d87",
   "metadata": {},
   "outputs": [
    {
     "data": {
      "text/plain": [
       "[[-1.7319668924113674,\n",
       "  -0.7324396877792114,\n",
       "  -0.3686446776412593,\n",
       "  -0.7979812453599388,\n",
       "  0.07906991444149086,\n",
       "  0.7289808981819601,\n",
       "  0.08193376858427932,\n",
       "  -0.6797418814172994,\n",
       "  0.5938194097272528],\n",
       " [-1.7312955548882658,\n",
       "  -1.3334053246300217,\n",
       "  -0.8453931491070594,\n",
       "  -0.34815492500568834,\n",
       "  -0.019726266386578314,\n",
       "  1.1316531272558914,\n",
       "  -0.018082498363888314,\n",
       "  1.6377819950507821,\n",
       "  -0.9834354838678211]]"
      ]
     },
     "execution_count": 32,
     "metadata": {},
     "output_type": "execute_result"
    }
   ],
   "source": [
    "response['data']['ndarray']"
   ]
  },
  {
   "cell_type": "code",
   "execution_count": 33,
   "id": "fe4cd568-1ae7-4180-986f-f6c7f7b4812c",
   "metadata": {},
   "outputs": [
    {
     "name": "stdout",
     "output_type": "stream",
     "text": [
      "seldondeployment.machinelearning.seldon.io \"seldon-preprocessor\" deleted\n"
     ]
    }
   ],
   "source": [
    "!kubectl delete -f seldondeployment1.yaml"
   ]
  },
  {
   "cell_type": "markdown",
   "id": "c039c2bc-1f34-49a1-8121-9bf6de326424",
   "metadata": {},
   "source": [
    "### Let's deploy a model that consumes this data"
   ]
  },
  {
   "cell_type": "code",
   "execution_count": 10,
   "id": "5d7baeaf-34f2-4553-afd3-8dce471a3c77",
   "metadata": {},
   "outputs": [
    {
     "name": "stdout",
     "output_type": "stream",
     "text": [
      "seldondeployment.machinelearning.seldon.io/seldon-regressor created\n"
     ]
    }
   ],
   "source": [
    "!kubectl apply -f seldondeployment2.yaml"
   ]
  },
  {
   "cell_type": "code",
   "execution_count": null,
   "id": "6e3a5fbe-6ff8-413d-a7b6-cb5222e20c23",
   "metadata": {},
   "outputs": [],
   "source": [
    "# in terminal: kubectl port-forward svc/seldon-regressor-model-model 9200:9000"
   ]
  },
  {
   "cell_type": "code",
   "execution_count": 150,
   "id": "626aa50d-e899-46e5-8268-6e4216475e10",
   "metadata": {},
   "outputs": [
    {
     "data": {
      "text/plain": [
       "{'data': {'names': [], 'ndarray': [0.596]},\n",
       " 'meta': {'requestPath': {'model': 'dvoitekh/seldon_feast:workshop13'}}}"
      ]
     },
     "execution_count": 150,
     "metadata": {},
     "output_type": "execute_result"
    }
   ],
   "source": [
    "response = requests.post('http://localhost:9200/api/v1.0/predictions', json={\"data\":{\"ndarray\": [[-1.7312955548882658,\n",
    "  -1.3334053246300217,\n",
    "  -0.8453931491070594,\n",
    "  -0.34815492500568834,\n",
    "  -0.019726266386578314,\n",
    "  1.1316531272558914,\n",
    "  -0.018082498363888314,\n",
    "  1.6377819950507821,\n",
    "  -0.9834354838678211]]}}).json()\n",
    "response"
   ]
  },
  {
   "cell_type": "code",
   "execution_count": null,
   "id": "8c7cda45-c7c5-46a7-b9c8-aaf21592dcde",
   "metadata": {},
   "outputs": [],
   "source": [
    "!kubectl delete -f seldondeployment2.yaml"
   ]
  },
  {
   "cell_type": "markdown",
   "id": "86d7484c-be24-47ea-8b89-a8030dedc4b0",
   "metadata": {},
   "source": [
    "### Let's deploy them together as a pipeline!"
   ]
  },
  {
   "cell_type": "code",
   "execution_count": null,
   "id": "2ececed0-866d-464e-92cb-4aa91d1132e9",
   "metadata": {},
   "outputs": [],
   "source": [
    "!kubectl apply -f seldondeployment3.yaml"
   ]
  },
  {
   "cell_type": "code",
   "execution_count": null,
   "id": "9f828d1e-7571-4fd7-8189-d1f5a994a330",
   "metadata": {},
   "outputs": [],
   "source": [
    "!kubectl get po"
   ]
  },
  {
   "cell_type": "code",
   "execution_count": null,
   "id": "32e09153-40aa-410e-86ab-471b6f8b52f3",
   "metadata": {},
   "outputs": [],
   "source": [
    "!kubectl get svc"
   ]
  },
  {
   "cell_type": "code",
   "execution_count": null,
   "id": "8bf6d4d4-c61e-43c1-9206-330193ea598e",
   "metadata": {},
   "outputs": [],
   "source": [
    "# in terminal: kubectl port-forward svc/seldon-pipeline-model 8100:8000"
   ]
  },
  {
   "cell_type": "code",
   "execution_count": 184,
   "id": "3631915d-c6df-4116-b966-13eff51757c9",
   "metadata": {},
   "outputs": [
    {
     "data": {
      "text/plain": [
       "{'data': {'names': [], 'ndarray': [2.017, 0.596]},\n",
       " 'meta': {'requestPath': {'preprocessor': 'dvoitekh/seldon_feast:workshop13',\n",
       "   'regressor': 'dvoitekh/seldon_feast:workshop13'}}}"
      ]
     },
     "execution_count": 184,
     "metadata": {},
     "output_type": "execute_result"
    }
   ],
   "source": [
    "response = requests.post('http://localhost:8100/api/v1.0/predictions', json={\"data\":{\"ndarray\":[[2], [5]]}}).json()\n",
    "response"
   ]
  },
  {
   "cell_type": "code",
   "execution_count": null,
   "id": "fd4a4f4d-c993-40bb-9af8-9f224f5d3610",
   "metadata": {},
   "outputs": [],
   "source": [
    "!kubectl delete -f seldondeployment3.yaml"
   ]
  },
  {
   "cell_type": "markdown",
   "id": "25c4e3e2-cf8a-4449-b534-2d713a25def3",
   "metadata": {},
   "source": [
    "### Let's add outliers detector with Combiner"
   ]
  },
  {
   "cell_type": "code",
   "execution_count": null,
   "id": "1d2d7f4c-417f-4fb9-b2ce-adcaeaa1575c",
   "metadata": {},
   "outputs": [],
   "source": [
    "!kubectl apply -f seldondeployment4.yaml"
   ]
  },
  {
   "cell_type": "code",
   "execution_count": null,
   "id": "1c3da730-0642-4030-8481-8301056a8c5a",
   "metadata": {},
   "outputs": [],
   "source": [
    "!kubectl get po"
   ]
  },
  {
   "cell_type": "code",
   "execution_count": null,
   "id": "6f66bdf7-3db3-4915-8be0-09e23de1d2e9",
   "metadata": {},
   "outputs": [],
   "source": [
    "# in terminal: kubectl port-forward svc/seldon-combiner-combiner 8100:8000"
   ]
  },
  {
   "cell_type": "code",
   "execution_count": 48,
   "id": "90aaa24e-bebf-41c2-b6f0-8fd3612bbe60",
   "metadata": {},
   "outputs": [
    {
     "data": {
      "text/plain": [
       "{'jsonData': {'outliers_detector': [1, 0], 'regressor': [0.875, 0.596]},\n",
       " 'meta': {'requestPath': {'combiner': 'dvoitekh/seldon_feast:workshop13',\n",
       "   'outlier-detector': 'dvoitekh/seldon_feast:workshop13',\n",
       "   'preprocessor': 'dvoitekh/seldon_feast:workshop13',\n",
       "   'regressor': 'dvoitekh/seldon_feast:workshop13'}}}"
      ]
     },
     "execution_count": 48,
     "metadata": {},
     "output_type": "execute_result"
    }
   ],
   "source": [
    "response = requests.post('http://localhost:8100/api/v1.0/predictions', json={\"data\":{\"ndarray\":[[154], [5]]}}).json()\n",
    "response"
   ]
  },
  {
   "cell_type": "code",
   "execution_count": 50,
   "id": "52b93450-9073-4efa-9936-a9fbabc97e25",
   "metadata": {},
   "outputs": [],
   "source": [
    "!kubectl delete -f seldondeployment4.yaml"
   ]
  },
  {
   "cell_type": "markdown",
   "id": "3cbcf23d-55fd-47b5-8ce5-df41698f6f74",
   "metadata": {},
   "source": [
    "### Let's create default A/B test (Only 2 hands are supported)"
   ]
  },
  {
   "cell_type": "code",
   "execution_count": 69,
   "id": "631627a1-f77f-462f-ba6d-cc2d99dc9e3a",
   "metadata": {},
   "outputs": [
    {
     "name": "stdout",
     "output_type": "stream",
     "text": [
      "seldondeployment.machinelearning.seldon.io/seldon-ab-test created\n"
     ]
    }
   ],
   "source": [
    "!kubectl apply -f seldondeployment5.0.yaml"
   ]
  },
  {
   "cell_type": "code",
   "execution_count": 88,
   "id": "a4e18d10-f635-48db-ab22-ddfde90a27d5",
   "metadata": {},
   "outputs": [
    {
     "name": "stdout",
     "output_type": "stream",
     "text": [
      "NAME                                                              READY   STATUS    RESTARTS   AGE\n",
      "seldon-ab-test-ab-test-0-preprocessor-model1-model2-56bd55w8hx8   4/4     Running   0          25s\n"
     ]
    }
   ],
   "source": [
    "!kubectl get po"
   ]
  },
  {
   "cell_type": "code",
   "execution_count": null,
   "id": "e2a15c68-1ea7-4ae9-afdc-9aa4b6279553",
   "metadata": {},
   "outputs": [],
   "source": [
    "# in terminal: kubectl port-forward svc/seldon-ab-test-ab-test 8100:8000"
   ]
  },
  {
   "cell_type": "code",
   "execution_count": 96,
   "id": "8b7f8bc2-9a24-4052-8796-27c7630d691a",
   "metadata": {},
   "outputs": [
    {
     "data": {
      "text/plain": [
       "{'data': {'names': [], 'ndarray': [0.875, 0.596]},\n",
       " 'meta': {'requestPath': {'model1': 'dvoitekh/seldon_feast:workshop13',\n",
       "   'preprocessor': 'dvoitekh/seldon_feast:workshop13'}}}"
      ]
     },
     "execution_count": 96,
     "metadata": {},
     "output_type": "execute_result"
    }
   ],
   "source": [
    "response = requests.post('http://localhost:8100/api/v1.0/predictions', json={\"data\":{\"ndarray\":[[154], [5]]}}).json()\n",
    "response"
   ]
  },
  {
   "cell_type": "code",
   "execution_count": null,
   "id": "133a6b34-73c3-4919-abd7-16db2c8eb4f4",
   "metadata": {},
   "outputs": [],
   "source": [
    "!kubectl delete -f seldondeployment5.0.yaml"
   ]
  },
  {
   "cell_type": "markdown",
   "id": "7ac25dbe-c5db-4df6-a323-5829f38470c1",
   "metadata": {},
   "source": [
    "### Let's create a Random Router"
   ]
  },
  {
   "cell_type": "markdown",
   "id": "bd0e4da1-3f89-487b-8db4-f97384abc72e",
   "metadata": {},
   "source": [
    "Available routers: https://docs.seldon.io/projects/seldon-core/en/latest/analytics/routers.html"
   ]
  },
  {
   "cell_type": "markdown",
   "id": "41cca55c-7376-427d-a545-d48c185a50af",
   "metadata": {},
   "source": [
    "Example of Eps-greedy: https://github.com/SeldonIO/seldon-core/blob/master/components/routers/epsilon-greedy/README.md"
   ]
  },
  {
   "cell_type": "code",
   "execution_count": 53,
   "id": "d43e4847-f2c0-4246-bfb9-8edadd87db18",
   "metadata": {},
   "outputs": [],
   "source": [
    "!kubectl apply -f seldondeployment5.yaml"
   ]
  },
  {
   "cell_type": "code",
   "execution_count": null,
   "id": "2679923d-e88a-47c8-b5a1-6412ec903962",
   "metadata": {},
   "outputs": [],
   "source": [
    "!kubectl get po"
   ]
  },
  {
   "cell_type": "code",
   "execution_count": null,
   "id": "8e5a9f1b-ef1a-4b2e-80d2-05dec6e5fb64",
   "metadata": {},
   "outputs": [],
   "source": [
    "# in terminal: kubectl port-forward svc/seldon-router-router 8100:8000"
   ]
  },
  {
   "cell_type": "code",
   "execution_count": 64,
   "id": "b4f1e506-cdf3-46e3-b94d-640d840a24a4",
   "metadata": {},
   "outputs": [
    {
     "data": {
      "text/plain": [
       "{'data': {'names': [], 'ndarray': [0.875, 0.596]},\n",
       " 'meta': {'requestPath': {'model1': 'dvoitekh/seldon_feast:workshop13',\n",
       "   'preprocessor': 'dvoitekh/seldon_feast:workshop13'},\n",
       "  'routing': {'model1': -1, 'preprocessor': -1, 'router': 0}}}"
      ]
     },
     "execution_count": 64,
     "metadata": {},
     "output_type": "execute_result"
    }
   ],
   "source": [
    "response = requests.post('http://localhost:8100/api/v1.0/predictions', json={\"data\":{\"ndarray\":[[154], [5]]}}).json()\n",
    "response"
   ]
  },
  {
   "cell_type": "code",
   "execution_count": null,
   "id": "94f5e57c-cd81-457a-b365-741d1e9ce9a7",
   "metadata": {},
   "outputs": [],
   "source": [
    "response = requests.post('http://localhost:8100/api/v1.0/feedback', json={\n",
    "    \"request\": {\"ndarray\":[[154], [5]]},\n",
    "    \"response\": response,\n",
    "    \"reward\": -1,\n",
    "    \"truth\": {\"data\": {\"ndarray\": [1, 1]}}\n",
    "}).json()\n",
    "response"
   ]
  },
  {
   "cell_type": "code",
   "execution_count": null,
   "id": "6c1679e4-2898-42b9-864c-bfa9dc254c89",
   "metadata": {},
   "outputs": [],
   "source": [
    "!kubectl logs -f seldon-router-router-0-preprocessor-model1-model2-router-5cvpwz router"
   ]
  },
  {
   "cell_type": "code",
   "execution_count": 66,
   "id": "29f28a1d-4e70-4f2c-a64f-0977b6996401",
   "metadata": {},
   "outputs": [
    {
     "name": "stdout",
     "output_type": "stream",
     "text": [
      "seldondeployment.machinelearning.seldon.io \"seldon-router\" deleted\n"
     ]
    }
   ],
   "source": [
    "!kubectl delete -f seldondeployment5.yaml"
   ]
  },
  {
   "cell_type": "markdown",
   "id": "ed87b5b6-9772-4272-9450-89ad4fc9320a",
   "metadata": {},
   "source": [
    "### Also, it's possible to perform streaming via TFServing: https://docs.seldon.io/projects/seldon-core/en/latest/examples/cifar10_kafka.html"
   ]
  },
  {
   "cell_type": "code",
   "execution_count": null,
   "id": "3e682385-f35c-4ba0-89e5-98832f779d3f",
   "metadata": {},
   "outputs": [],
   "source": []
  }
 ],
 "metadata": {
  "kernelspec": {
   "display_name": "Python 3 (ipykernel)",
   "language": "python",
   "name": "python3"
  },
  "language_info": {
   "codemirror_mode": {
    "name": "ipython",
    "version": 3
   },
   "file_extension": ".py",
   "mimetype": "text/x-python",
   "name": "python",
   "nbconvert_exporter": "python",
   "pygments_lexer": "ipython3",
   "version": "3.10.4"
  }
 },
 "nbformat": 4,
 "nbformat_minor": 5
}
